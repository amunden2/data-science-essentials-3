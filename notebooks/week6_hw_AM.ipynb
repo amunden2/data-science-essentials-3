{
 "cells": [
  {
   "cell_type": "code",
   "execution_count": 1,
   "metadata": {},
   "outputs": [],
   "source": [
    "import pandas as pd\n",
    "import matplotlib.pyplot as plt\n",
    "import seaborn as sns\n",
    "\n",
    "import numpy as np\n",
    "from sklearn.model_selection import train_test_split\n",
    "from sklearn.linear_model import LogisticRegression\n",
    "from sklearn import metrics\n",
    "from cm import plot_confusion_matrix\n",
    "\n",
    "import warnings\n",
    "\n",
    "warnings.filterwarnings('ignore')\n",
    "\n",
    "%matplotlib inline"
   ]
  },
  {
   "cell_type": "code",
   "execution_count": 2,
   "metadata": {},
   "outputs": [],
   "source": [
    "cancer_costs_df = pd.read_csv('../data/mmd_cancer_data.csv')\n",
    "cancer_costs_df = cancer_costs_df.rename(columns = {'analysis_value': 'cancer_avg_cost'})"
   ]
  },
  {
   "cell_type": "code",
   "execution_count": 3,
   "metadata": {},
   "outputs": [
    {
     "data": {
      "text/html": [
       "<div>\n",
       "<style scoped>\n",
       "    .dataframe tbody tr th:only-of-type {\n",
       "        vertical-align: middle;\n",
       "    }\n",
       "\n",
       "    .dataframe tbody tr th {\n",
       "        vertical-align: top;\n",
       "    }\n",
       "\n",
       "    .dataframe thead th {\n",
       "        text-align: right;\n",
       "    }\n",
       "</style>\n",
       "<table border=\"1\" class=\"dataframe\">\n",
       "  <thead>\n",
       "    <tr style=\"text-align: right;\">\n",
       "      <th></th>\n",
       "      <th>year</th>\n",
       "      <th>geography</th>\n",
       "      <th>measure</th>\n",
       "      <th>adjustment</th>\n",
       "      <th>analysis</th>\n",
       "      <th>domain</th>\n",
       "      <th>condition</th>\n",
       "      <th>primary_sex</th>\n",
       "      <th>primary_age</th>\n",
       "      <th>primary_dual</th>\n",
       "      <th>fips</th>\n",
       "      <th>county</th>\n",
       "      <th>state</th>\n",
       "      <th>urban</th>\n",
       "      <th>primary_race</th>\n",
       "      <th>primary_denominator</th>\n",
       "      <th>cancer_avg_cost</th>\n",
       "    </tr>\n",
       "  </thead>\n",
       "  <tbody>\n",
       "    <tr>\n",
       "      <th>0</th>\n",
       "      <td>2017</td>\n",
       "      <td>County</td>\n",
       "      <td>Average total cost</td>\n",
       "      <td>Unsmoothed actual</td>\n",
       "      <td>Base measure</td>\n",
       "      <td>Primary chronic conditions</td>\n",
       "      <td>Cancer, Colorectal, Breast, Prostate, Lung</td>\n",
       "      <td>All</td>\n",
       "      <td>All</td>\n",
       "      <td>Dual &amp; non-dual</td>\n",
       "      <td>1001</td>\n",
       "      <td>Autauga County</td>\n",
       "      <td>ALABAMA</td>\n",
       "      <td>Urban</td>\n",
       "      <td>All</td>\n",
       "      <td>undefined</td>\n",
       "      <td>19293</td>\n",
       "    </tr>\n",
       "    <tr>\n",
       "      <th>1</th>\n",
       "      <td>2017</td>\n",
       "      <td>County</td>\n",
       "      <td>Average total cost</td>\n",
       "      <td>Unsmoothed actual</td>\n",
       "      <td>Base measure</td>\n",
       "      <td>Primary chronic conditions</td>\n",
       "      <td>Cancer, Colorectal, Breast, Prostate, Lung</td>\n",
       "      <td>All</td>\n",
       "      <td>All</td>\n",
       "      <td>Dual &amp; non-dual</td>\n",
       "      <td>1003</td>\n",
       "      <td>Baldwin County</td>\n",
       "      <td>ALABAMA</td>\n",
       "      <td>Rural</td>\n",
       "      <td>All</td>\n",
       "      <td>undefined</td>\n",
       "      <td>17151</td>\n",
       "    </tr>\n",
       "    <tr>\n",
       "      <th>2</th>\n",
       "      <td>2017</td>\n",
       "      <td>County</td>\n",
       "      <td>Average total cost</td>\n",
       "      <td>Unsmoothed actual</td>\n",
       "      <td>Base measure</td>\n",
       "      <td>Primary chronic conditions</td>\n",
       "      <td>Cancer, Colorectal, Breast, Prostate, Lung</td>\n",
       "      <td>All</td>\n",
       "      <td>All</td>\n",
       "      <td>Dual &amp; non-dual</td>\n",
       "      <td>1005</td>\n",
       "      <td>Barbour County</td>\n",
       "      <td>ALABAMA</td>\n",
       "      <td>Rural</td>\n",
       "      <td>All</td>\n",
       "      <td>undefined</td>\n",
       "      <td>19469</td>\n",
       "    </tr>\n",
       "    <tr>\n",
       "      <th>3</th>\n",
       "      <td>2017</td>\n",
       "      <td>County</td>\n",
       "      <td>Average total cost</td>\n",
       "      <td>Unsmoothed actual</td>\n",
       "      <td>Base measure</td>\n",
       "      <td>Primary chronic conditions</td>\n",
       "      <td>Cancer, Colorectal, Breast, Prostate, Lung</td>\n",
       "      <td>All</td>\n",
       "      <td>All</td>\n",
       "      <td>Dual &amp; non-dual</td>\n",
       "      <td>1007</td>\n",
       "      <td>Bibb County</td>\n",
       "      <td>ALABAMA</td>\n",
       "      <td>Urban</td>\n",
       "      <td>All</td>\n",
       "      <td>undefined</td>\n",
       "      <td>17234</td>\n",
       "    </tr>\n",
       "    <tr>\n",
       "      <th>4</th>\n",
       "      <td>2017</td>\n",
       "      <td>County</td>\n",
       "      <td>Average total cost</td>\n",
       "      <td>Unsmoothed actual</td>\n",
       "      <td>Base measure</td>\n",
       "      <td>Primary chronic conditions</td>\n",
       "      <td>Cancer, Colorectal, Breast, Prostate, Lung</td>\n",
       "      <td>All</td>\n",
       "      <td>All</td>\n",
       "      <td>Dual &amp; non-dual</td>\n",
       "      <td>1009</td>\n",
       "      <td>Blount County</td>\n",
       "      <td>ALABAMA</td>\n",
       "      <td>Urban</td>\n",
       "      <td>All</td>\n",
       "      <td>undefined</td>\n",
       "      <td>20317</td>\n",
       "    </tr>\n",
       "  </tbody>\n",
       "</table>\n",
       "</div>"
      ],
      "text/plain": [
       "   year geography             measure         adjustment      analysis  \\\n",
       "0  2017    County  Average total cost  Unsmoothed actual  Base measure   \n",
       "1  2017    County  Average total cost  Unsmoothed actual  Base measure   \n",
       "2  2017    County  Average total cost  Unsmoothed actual  Base measure   \n",
       "3  2017    County  Average total cost  Unsmoothed actual  Base measure   \n",
       "4  2017    County  Average total cost  Unsmoothed actual  Base measure   \n",
       "\n",
       "                       domain                                   condition  \\\n",
       "0  Primary chronic conditions  Cancer, Colorectal, Breast, Prostate, Lung   \n",
       "1  Primary chronic conditions  Cancer, Colorectal, Breast, Prostate, Lung   \n",
       "2  Primary chronic conditions  Cancer, Colorectal, Breast, Prostate, Lung   \n",
       "3  Primary chronic conditions  Cancer, Colorectal, Breast, Prostate, Lung   \n",
       "4  Primary chronic conditions  Cancer, Colorectal, Breast, Prostate, Lung   \n",
       "\n",
       "  primary_sex primary_age     primary_dual  fips          county    state  \\\n",
       "0         All         All  Dual & non-dual  1001  Autauga County  ALABAMA   \n",
       "1         All         All  Dual & non-dual  1003  Baldwin County  ALABAMA   \n",
       "2         All         All  Dual & non-dual  1005  Barbour County  ALABAMA   \n",
       "3         All         All  Dual & non-dual  1007     Bibb County  ALABAMA   \n",
       "4         All         All  Dual & non-dual  1009   Blount County  ALABAMA   \n",
       "\n",
       "   urban primary_race primary_denominator  cancer_avg_cost  \n",
       "0  Urban          All           undefined            19293  \n",
       "1  Rural          All           undefined            17151  \n",
       "2  Rural          All           undefined            19469  \n",
       "3  Urban          All           undefined            17234  \n",
       "4  Urban          All           undefined            20317  "
      ]
     },
     "execution_count": 3,
     "metadata": {},
     "output_type": "execute_result"
    }
   ],
   "source": [
    "cancer_costs_df.head()"
   ]
  },
  {
   "cell_type": "code",
   "execution_count": 4,
   "metadata": {},
   "outputs": [
    {
     "data": {
      "text/html": [
       "<div>\n",
       "<style scoped>\n",
       "    .dataframe tbody tr th:only-of-type {\n",
       "        vertical-align: middle;\n",
       "    }\n",
       "\n",
       "    .dataframe tbody tr th {\n",
       "        vertical-align: top;\n",
       "    }\n",
       "\n",
       "    .dataframe thead th {\n",
       "        text-align: right;\n",
       "    }\n",
       "</style>\n",
       "<table border=\"1\" class=\"dataframe\">\n",
       "  <thead>\n",
       "    <tr style=\"text-align: right;\">\n",
       "      <th></th>\n",
       "      <th>state</th>\n",
       "      <th>county</th>\n",
       "      <th>urban</th>\n",
       "      <th>cancer_avg_cost</th>\n",
       "    </tr>\n",
       "  </thead>\n",
       "  <tbody>\n",
       "    <tr>\n",
       "      <th>0</th>\n",
       "      <td>ALABAMA</td>\n",
       "      <td>Autauga County</td>\n",
       "      <td>Urban</td>\n",
       "      <td>19293</td>\n",
       "    </tr>\n",
       "    <tr>\n",
       "      <th>1</th>\n",
       "      <td>ALABAMA</td>\n",
       "      <td>Baldwin County</td>\n",
       "      <td>Rural</td>\n",
       "      <td>17151</td>\n",
       "    </tr>\n",
       "    <tr>\n",
       "      <th>2</th>\n",
       "      <td>ALABAMA</td>\n",
       "      <td>Barbour County</td>\n",
       "      <td>Rural</td>\n",
       "      <td>19469</td>\n",
       "    </tr>\n",
       "    <tr>\n",
       "      <th>3</th>\n",
       "      <td>ALABAMA</td>\n",
       "      <td>Bibb County</td>\n",
       "      <td>Urban</td>\n",
       "      <td>17234</td>\n",
       "    </tr>\n",
       "    <tr>\n",
       "      <th>4</th>\n",
       "      <td>ALABAMA</td>\n",
       "      <td>Blount County</td>\n",
       "      <td>Urban</td>\n",
       "      <td>20317</td>\n",
       "    </tr>\n",
       "  </tbody>\n",
       "</table>\n",
       "</div>"
      ],
      "text/plain": [
       "     state          county  urban  cancer_avg_cost\n",
       "0  ALABAMA  Autauga County  Urban            19293\n",
       "1  ALABAMA  Baldwin County  Rural            17151\n",
       "2  ALABAMA  Barbour County  Rural            19469\n",
       "3  ALABAMA     Bibb County  Urban            17234\n",
       "4  ALABAMA   Blount County  Urban            20317"
      ]
     },
     "execution_count": 4,
     "metadata": {},
     "output_type": "execute_result"
    }
   ],
   "source": [
    "cancer_costs_df = cancer_costs_df[['state', 'county', 'urban', 'cancer_avg_cost']]\n",
    "cancer_costs_df.head()"
   ]
  },
  {
   "cell_type": "code",
   "execution_count": 5,
   "metadata": {},
   "outputs": [
    {
     "data": {
      "text/plain": [
       "{'ALABAMA': 'AL',\n",
       " 'ALASKA': 'AK',\n",
       " 'ARIZONA': 'AZ',\n",
       " 'ARKANSAS': 'AR',\n",
       " 'CALIFORNIA': 'CA',\n",
       " 'COLORADO': 'CO',\n",
       " 'CONNECTICUT': 'CT',\n",
       " 'DELAWARE': 'DE',\n",
       " 'DISTRICT OF COLUMBIA': 'DC',\n",
       " 'FLORIDA': 'FL',\n",
       " 'GEORGIA': 'GA',\n",
       " 'HAWAII': 'HI',\n",
       " 'IDAHO': 'ID',\n",
       " 'ILLINOIS': 'IL',\n",
       " 'INDIANA': 'IN',\n",
       " 'IOWA': 'IA',\n",
       " 'KANSAS': 'KS',\n",
       " 'KENTUCKY': 'KY',\n",
       " 'LOUISIANA': 'LA',\n",
       " 'MAINE': 'ME',\n",
       " 'MARYLAND': 'MD',\n",
       " 'MASSACHUSETTS': 'MA',\n",
       " 'MICHIGAN': 'MI',\n",
       " 'MINNESOTA': 'MN',\n",
       " 'MISSISSIPPI': 'MS',\n",
       " 'MISSOURI': 'MO',\n",
       " 'MONTANA': 'MT',\n",
       " 'NEBRASKA': 'NE',\n",
       " 'NEVADA': 'NV',\n",
       " 'NEW HAMPSHIRE': 'NH',\n",
       " 'NEW JERSEY': 'NJ',\n",
       " 'NEW MEXICO': 'NM',\n",
       " 'NEW YORK': 'NY',\n",
       " 'NORTH CAROLINA': 'NC',\n",
       " 'NORTH DAKOTA': 'ND',\n",
       " 'OHIO': 'OH',\n",
       " 'OKLAHOMA': 'OK',\n",
       " 'OREGON': 'OR',\n",
       " 'PENNSYLVANIA': 'PA',\n",
       " 'RHODE ISLAND': 'RI',\n",
       " 'SOUTH CAROLINA': 'SC',\n",
       " 'SOUTH DAKOTA': 'SD',\n",
       " 'TENNESSEE': 'TN',\n",
       " 'TEXAS': 'TX',\n",
       " 'UTAH': 'UT',\n",
       " 'VERMONT': 'VT',\n",
       " 'VIRGINIA': 'VA',\n",
       " 'WASHINGTON': 'WA',\n",
       " 'WEST VIRGINIA': 'WV',\n",
       " 'WISCONSIN': 'WI',\n",
       " 'WYOMING': 'WY',\n",
       " 'PUERTO RICO': 'PR'}"
      ]
     },
     "execution_count": 5,
     "metadata": {},
     "output_type": "execute_result"
    }
   ],
   "source": [
    "state_abbrev = pd.read_csv('../data/state_abbrev.csv')\n",
    "state_abbrev.head()\n",
    "state_abbrev.set_index('name')['abbrev'].to_dict()"
   ]
  },
  {
   "cell_type": "code",
   "execution_count": 6,
   "metadata": {},
   "outputs": [
    {
     "data": {
      "text/html": [
       "<div>\n",
       "<style scoped>\n",
       "    .dataframe tbody tr th:only-of-type {\n",
       "        vertical-align: middle;\n",
       "    }\n",
       "\n",
       "    .dataframe tbody tr th {\n",
       "        vertical-align: top;\n",
       "    }\n",
       "\n",
       "    .dataframe thead th {\n",
       "        text-align: right;\n",
       "    }\n",
       "</style>\n",
       "<table border=\"1\" class=\"dataframe\">\n",
       "  <thead>\n",
       "    <tr style=\"text-align: right;\">\n",
       "      <th></th>\n",
       "      <th>state</th>\n",
       "      <th>county</th>\n",
       "      <th>urban</th>\n",
       "      <th>cancer_avg_cost</th>\n",
       "    </tr>\n",
       "  </thead>\n",
       "  <tbody>\n",
       "    <tr>\n",
       "      <th>0</th>\n",
       "      <td>AL</td>\n",
       "      <td>Autauga County</td>\n",
       "      <td>Urban</td>\n",
       "      <td>19293</td>\n",
       "    </tr>\n",
       "    <tr>\n",
       "      <th>1</th>\n",
       "      <td>AL</td>\n",
       "      <td>Baldwin County</td>\n",
       "      <td>Rural</td>\n",
       "      <td>17151</td>\n",
       "    </tr>\n",
       "    <tr>\n",
       "      <th>2</th>\n",
       "      <td>AL</td>\n",
       "      <td>Barbour County</td>\n",
       "      <td>Rural</td>\n",
       "      <td>19469</td>\n",
       "    </tr>\n",
       "    <tr>\n",
       "      <th>3</th>\n",
       "      <td>AL</td>\n",
       "      <td>Bibb County</td>\n",
       "      <td>Urban</td>\n",
       "      <td>17234</td>\n",
       "    </tr>\n",
       "    <tr>\n",
       "      <th>4</th>\n",
       "      <td>AL</td>\n",
       "      <td>Blount County</td>\n",
       "      <td>Urban</td>\n",
       "      <td>20317</td>\n",
       "    </tr>\n",
       "  </tbody>\n",
       "</table>\n",
       "</div>"
      ],
      "text/plain": [
       "  state          county  urban  cancer_avg_cost\n",
       "0    AL  Autauga County  Urban            19293\n",
       "1    AL  Baldwin County  Rural            17151\n",
       "2    AL  Barbour County  Rural            19469\n",
       "3    AL     Bibb County  Urban            17234\n",
       "4    AL   Blount County  Urban            20317"
      ]
     },
     "execution_count": 6,
     "metadata": {},
     "output_type": "execute_result"
    }
   ],
   "source": [
    "cancer_costs_df['state'] = cancer_costs_df['state'].map(state_abbrev.set_index('name')['abbrev'].to_dict())\n",
    "cancer_costs_df.head()"
   ]
  },
  {
   "cell_type": "code",
   "execution_count": 7,
   "metadata": {},
   "outputs": [
    {
     "data": {
      "text/html": [
       "<div>\n",
       "<style scoped>\n",
       "    .dataframe tbody tr th:only-of-type {\n",
       "        vertical-align: middle;\n",
       "    }\n",
       "\n",
       "    .dataframe tbody tr th {\n",
       "        vertical-align: top;\n",
       "    }\n",
       "\n",
       "    .dataframe thead th {\n",
       "        text-align: right;\n",
       "    }\n",
       "</style>\n",
       "<table border=\"1\" class=\"dataframe\">\n",
       "  <thead>\n",
       "    <tr style=\"text-align: right;\">\n",
       "      <th></th>\n",
       "      <th>state</th>\n",
       "      <th>county</th>\n",
       "      <th>returns_with_total_inc</th>\n",
       "      <th>total_inc_amt</th>\n",
       "    </tr>\n",
       "  </thead>\n",
       "  <tbody>\n",
       "    <tr>\n",
       "      <th>0</th>\n",
       "      <td>AL</td>\n",
       "      <td>Alabama</td>\n",
       "      <td>19140</td>\n",
       "      <td>-1657452</td>\n",
       "    </tr>\n",
       "    <tr>\n",
       "      <th>1</th>\n",
       "      <td>AL</td>\n",
       "      <td>Alabama</td>\n",
       "      <td>285760</td>\n",
       "      <td>1632624</td>\n",
       "    </tr>\n",
       "    <tr>\n",
       "      <th>2</th>\n",
       "      <td>AL</td>\n",
       "      <td>Alabama</td>\n",
       "      <td>529780</td>\n",
       "      <td>9158151</td>\n",
       "    </tr>\n",
       "    <tr>\n",
       "      <th>3</th>\n",
       "      <td>AL</td>\n",
       "      <td>Alabama</td>\n",
       "      <td>495750</td>\n",
       "      <td>18016190</td>\n",
       "    </tr>\n",
       "    <tr>\n",
       "      <th>4</th>\n",
       "      <td>AL</td>\n",
       "      <td>Alabama</td>\n",
       "      <td>263130</td>\n",
       "      <td>16321828</td>\n",
       "    </tr>\n",
       "  </tbody>\n",
       "</table>\n",
       "</div>"
      ],
      "text/plain": [
       "  state   county  returns_with_total_inc  total_inc_amt\n",
       "0    AL  Alabama                   19140       -1657452\n",
       "1    AL  Alabama                  285760        1632624\n",
       "2    AL  Alabama                  529780        9158151\n",
       "3    AL  Alabama                  495750       18016190\n",
       "4    AL  Alabama                  263130       16321828"
      ]
     },
     "execution_count": 7,
     "metadata": {},
     "output_type": "execute_result"
    }
   ],
   "source": [
    "income_df = pd.read_csv('../data/irs_county_2016.csv')\n",
    "income_df = income_df[['STATE', 'COUNTYNAME', 'N02650', 'A02650']]\n",
    "income_df.columns = ['state', 'county', 'returns_with_total_inc','total_inc_amt']\n",
    "income_df.head()"
   ]
  },
  {
   "cell_type": "code",
   "execution_count": 8,
   "metadata": {},
   "outputs": [
    {
     "data": {
      "text/html": [
       "<div>\n",
       "<style scoped>\n",
       "    .dataframe tbody tr th:only-of-type {\n",
       "        vertical-align: middle;\n",
       "    }\n",
       "\n",
       "    .dataframe tbody tr th {\n",
       "        vertical-align: top;\n",
       "    }\n",
       "\n",
       "    .dataframe thead th {\n",
       "        text-align: right;\n",
       "    }\n",
       "</style>\n",
       "<table border=\"1\" class=\"dataframe\">\n",
       "  <thead>\n",
       "    <tr style=\"text-align: right;\">\n",
       "      <th></th>\n",
       "      <th>state</th>\n",
       "      <th>county</th>\n",
       "      <th>avg_income</th>\n",
       "    </tr>\n",
       "  </thead>\n",
       "  <tbody>\n",
       "    <tr>\n",
       "      <th>0</th>\n",
       "      <td>AK</td>\n",
       "      <td>Alaska</td>\n",
       "      <td>68636.0</td>\n",
       "    </tr>\n",
       "    <tr>\n",
       "      <th>1</th>\n",
       "      <td>AK</td>\n",
       "      <td>Aleutians East Borou</td>\n",
       "      <td>48984.0</td>\n",
       "    </tr>\n",
       "    <tr>\n",
       "      <th>2</th>\n",
       "      <td>AK</td>\n",
       "      <td>Aleutians West Censu</td>\n",
       "      <td>60696.0</td>\n",
       "    </tr>\n",
       "    <tr>\n",
       "      <th>3</th>\n",
       "      <td>AK</td>\n",
       "      <td>Anchorage Municipali</td>\n",
       "      <td>76594.0</td>\n",
       "    </tr>\n",
       "    <tr>\n",
       "      <th>4</th>\n",
       "      <td>AK</td>\n",
       "      <td>Bethel Census Area</td>\n",
       "      <td>37840.0</td>\n",
       "    </tr>\n",
       "  </tbody>\n",
       "</table>\n",
       "</div>"
      ],
      "text/plain": [
       "  state                county  avg_income\n",
       "0    AK                Alaska     68636.0\n",
       "1    AK  Aleutians East Borou     48984.0\n",
       "2    AK  Aleutians West Censu     60696.0\n",
       "3    AK  Anchorage Municipali     76594.0\n",
       "4    AK    Bethel Census Area     37840.0"
      ]
     },
     "execution_count": 8,
     "metadata": {},
     "output_type": "execute_result"
    }
   ],
   "source": [
    "income_agg = income_df.groupby(['state','county']).agg('sum').reset_index()\n",
    "income_agg['avg_income'] = round(income_agg.total_inc_amt * 1000 / income_agg.returns_with_total_inc, 0)\n",
    "income_agg = income_agg[['state','county', 'avg_income']]\n",
    "income_agg.head()"
   ]
  },
  {
   "cell_type": "code",
   "execution_count": 9,
   "metadata": {},
   "outputs": [],
   "source": [
    "tn_cancer_costs = cancer_costs_df.loc[cancer_costs_df['state'] == 'TN']"
   ]
  },
  {
   "cell_type": "code",
   "execution_count": 10,
   "metadata": {},
   "outputs": [
    {
     "data": {
      "text/html": [
       "<div>\n",
       "<style scoped>\n",
       "    .dataframe tbody tr th:only-of-type {\n",
       "        vertical-align: middle;\n",
       "    }\n",
       "\n",
       "    .dataframe tbody tr th {\n",
       "        vertical-align: top;\n",
       "    }\n",
       "\n",
       "    .dataframe thead th {\n",
       "        text-align: right;\n",
       "    }\n",
       "</style>\n",
       "<table border=\"1\" class=\"dataframe\">\n",
       "  <thead>\n",
       "    <tr style=\"text-align: right;\">\n",
       "      <th></th>\n",
       "      <th>state</th>\n",
       "      <th>county</th>\n",
       "      <th>urban</th>\n",
       "      <th>cancer_avg_cost</th>\n",
       "    </tr>\n",
       "  </thead>\n",
       "  <tbody>\n",
       "    <tr>\n",
       "      <th>2396</th>\n",
       "      <td>TN</td>\n",
       "      <td>Anderson County</td>\n",
       "      <td>Urban</td>\n",
       "      <td>15454</td>\n",
       "    </tr>\n",
       "    <tr>\n",
       "      <th>2397</th>\n",
       "      <td>TN</td>\n",
       "      <td>Bedford County</td>\n",
       "      <td>Rural</td>\n",
       "      <td>19219</td>\n",
       "    </tr>\n",
       "    <tr>\n",
       "      <th>2398</th>\n",
       "      <td>TN</td>\n",
       "      <td>Benton County</td>\n",
       "      <td>Rural</td>\n",
       "      <td>21315</td>\n",
       "    </tr>\n",
       "    <tr>\n",
       "      <th>2399</th>\n",
       "      <td>TN</td>\n",
       "      <td>Bledsoe County</td>\n",
       "      <td>Rural</td>\n",
       "      <td>19250</td>\n",
       "    </tr>\n",
       "    <tr>\n",
       "      <th>2400</th>\n",
       "      <td>TN</td>\n",
       "      <td>Blount County</td>\n",
       "      <td>Urban</td>\n",
       "      <td>17073</td>\n",
       "    </tr>\n",
       "  </tbody>\n",
       "</table>\n",
       "</div>"
      ],
      "text/plain": [
       "     state           county  urban  cancer_avg_cost\n",
       "2396    TN  Anderson County  Urban            15454\n",
       "2397    TN   Bedford County  Rural            19219\n",
       "2398    TN    Benton County  Rural            21315\n",
       "2399    TN   Bledsoe County  Rural            19250\n",
       "2400    TN    Blount County  Urban            17073"
      ]
     },
     "execution_count": 10,
     "metadata": {},
     "output_type": "execute_result"
    }
   ],
   "source": [
    "tn_cancer_costs.head()"
   ]
  },
  {
   "cell_type": "code",
   "execution_count": 11,
   "metadata": {},
   "outputs": [
    {
     "data": {
      "text/plain": [
       "(95, 4)"
      ]
     },
     "execution_count": 11,
     "metadata": {},
     "output_type": "execute_result"
    }
   ],
   "source": [
    "tn_cancer_costs.shape"
   ]
  },
  {
   "cell_type": "code",
   "execution_count": 12,
   "metadata": {},
   "outputs": [],
   "source": [
    "tn_income_agg = income_agg.loc[income_agg['state'] == 'TN']"
   ]
  },
  {
   "cell_type": "code",
   "execution_count": 13,
   "metadata": {},
   "outputs": [
    {
     "data": {
      "text/html": [
       "<div>\n",
       "<style scoped>\n",
       "    .dataframe tbody tr th:only-of-type {\n",
       "        vertical-align: middle;\n",
       "    }\n",
       "\n",
       "    .dataframe tbody tr th {\n",
       "        vertical-align: top;\n",
       "    }\n",
       "\n",
       "    .dataframe thead th {\n",
       "        text-align: right;\n",
       "    }\n",
       "</style>\n",
       "<table border=\"1\" class=\"dataframe\">\n",
       "  <thead>\n",
       "    <tr style=\"text-align: right;\">\n",
       "      <th></th>\n",
       "      <th>state</th>\n",
       "      <th>county</th>\n",
       "      <th>avg_income</th>\n",
       "    </tr>\n",
       "  </thead>\n",
       "  <tbody>\n",
       "    <tr>\n",
       "      <th>2468</th>\n",
       "      <td>TN</td>\n",
       "      <td>Anderson County</td>\n",
       "      <td>53617.0</td>\n",
       "    </tr>\n",
       "    <tr>\n",
       "      <th>2469</th>\n",
       "      <td>TN</td>\n",
       "      <td>Bedford County</td>\n",
       "      <td>47308.0</td>\n",
       "    </tr>\n",
       "    <tr>\n",
       "      <th>2470</th>\n",
       "      <td>TN</td>\n",
       "      <td>Benton County</td>\n",
       "      <td>41485.0</td>\n",
       "    </tr>\n",
       "    <tr>\n",
       "      <th>2471</th>\n",
       "      <td>TN</td>\n",
       "      <td>Bledsoe County</td>\n",
       "      <td>39919.0</td>\n",
       "    </tr>\n",
       "    <tr>\n",
       "      <th>2472</th>\n",
       "      <td>TN</td>\n",
       "      <td>Blount County</td>\n",
       "      <td>56978.0</td>\n",
       "    </tr>\n",
       "  </tbody>\n",
       "</table>\n",
       "</div>"
      ],
      "text/plain": [
       "     state           county  avg_income\n",
       "2468    TN  Anderson County     53617.0\n",
       "2469    TN   Bedford County     47308.0\n",
       "2470    TN    Benton County     41485.0\n",
       "2471    TN   Bledsoe County     39919.0\n",
       "2472    TN    Blount County     56978.0"
      ]
     },
     "execution_count": 13,
     "metadata": {},
     "output_type": "execute_result"
    }
   ],
   "source": [
    "tn_income_agg.head()"
   ]
  },
  {
   "cell_type": "code",
   "execution_count": 14,
   "metadata": {},
   "outputs": [
    {
     "data": {
      "text/plain": [
       "(96, 3)"
      ]
     },
     "execution_count": 14,
     "metadata": {},
     "output_type": "execute_result"
    }
   ],
   "source": [
    "tn_income_agg.shape"
   ]
  },
  {
   "cell_type": "code",
   "execution_count": 15,
   "metadata": {},
   "outputs": [],
   "source": [
    "total_df = pd.merge(tn_cancer_costs, tn_income_agg, on = ['county'], how = 'inner')"
   ]
  },
  {
   "cell_type": "code",
   "execution_count": 17,
   "metadata": {},
   "outputs": [
    {
     "data": {
      "text/html": [
       "<div>\n",
       "<style scoped>\n",
       "    .dataframe tbody tr th:only-of-type {\n",
       "        vertical-align: middle;\n",
       "    }\n",
       "\n",
       "    .dataframe tbody tr th {\n",
       "        vertical-align: top;\n",
       "    }\n",
       "\n",
       "    .dataframe thead th {\n",
       "        text-align: right;\n",
       "    }\n",
       "</style>\n",
       "<table border=\"1\" class=\"dataframe\">\n",
       "  <thead>\n",
       "    <tr style=\"text-align: right;\">\n",
       "      <th></th>\n",
       "      <th>state_x</th>\n",
       "      <th>county</th>\n",
       "      <th>urban</th>\n",
       "      <th>cancer_avg_cost</th>\n",
       "      <th>state_y</th>\n",
       "      <th>avg_income</th>\n",
       "    </tr>\n",
       "  </thead>\n",
       "  <tbody>\n",
       "    <tr>\n",
       "      <th>0</th>\n",
       "      <td>TN</td>\n",
       "      <td>Anderson County</td>\n",
       "      <td>Urban</td>\n",
       "      <td>15454</td>\n",
       "      <td>TN</td>\n",
       "      <td>53617.0</td>\n",
       "    </tr>\n",
       "    <tr>\n",
       "      <th>1</th>\n",
       "      <td>TN</td>\n",
       "      <td>Bedford County</td>\n",
       "      <td>Rural</td>\n",
       "      <td>19219</td>\n",
       "      <td>TN</td>\n",
       "      <td>47308.0</td>\n",
       "    </tr>\n",
       "    <tr>\n",
       "      <th>2</th>\n",
       "      <td>TN</td>\n",
       "      <td>Benton County</td>\n",
       "      <td>Rural</td>\n",
       "      <td>21315</td>\n",
       "      <td>TN</td>\n",
       "      <td>41485.0</td>\n",
       "    </tr>\n",
       "    <tr>\n",
       "      <th>3</th>\n",
       "      <td>TN</td>\n",
       "      <td>Bledsoe County</td>\n",
       "      <td>Rural</td>\n",
       "      <td>19250</td>\n",
       "      <td>TN</td>\n",
       "      <td>39919.0</td>\n",
       "    </tr>\n",
       "    <tr>\n",
       "      <th>4</th>\n",
       "      <td>TN</td>\n",
       "      <td>Blount County</td>\n",
       "      <td>Urban</td>\n",
       "      <td>17073</td>\n",
       "      <td>TN</td>\n",
       "      <td>56978.0</td>\n",
       "    </tr>\n",
       "  </tbody>\n",
       "</table>\n",
       "</div>"
      ],
      "text/plain": [
       "  state_x           county  urban  cancer_avg_cost state_y  avg_income\n",
       "0      TN  Anderson County  Urban            15454      TN     53617.0\n",
       "1      TN   Bedford County  Rural            19219      TN     47308.0\n",
       "2      TN    Benton County  Rural            21315      TN     41485.0\n",
       "3      TN   Bledsoe County  Rural            19250      TN     39919.0\n",
       "4      TN    Blount County  Urban            17073      TN     56978.0"
      ]
     },
     "execution_count": 17,
     "metadata": {},
     "output_type": "execute_result"
    }
   ],
   "source": [
    "total_df.head()"
   ]
  },
  {
   "cell_type": "code",
   "execution_count": 16,
   "metadata": {},
   "outputs": [
    {
     "data": {
      "text/plain": [
       "(95, 6)"
      ]
     },
     "execution_count": 16,
     "metadata": {},
     "output_type": "execute_result"
    }
   ],
   "source": [
    "total_df.shape"
   ]
  },
  {
   "cell_type": "code",
   "execution_count": 18,
   "metadata": {},
   "outputs": [],
   "source": [
    "total_df = total_df[['state_x', 'county', 'urban', 'cancer_avg_cost', 'avg_income']]"
   ]
  },
  {
   "cell_type": "code",
   "execution_count": 19,
   "metadata": {},
   "outputs": [
    {
     "data": {
      "text/html": [
       "<div>\n",
       "<style scoped>\n",
       "    .dataframe tbody tr th:only-of-type {\n",
       "        vertical-align: middle;\n",
       "    }\n",
       "\n",
       "    .dataframe tbody tr th {\n",
       "        vertical-align: top;\n",
       "    }\n",
       "\n",
       "    .dataframe thead th {\n",
       "        text-align: right;\n",
       "    }\n",
       "</style>\n",
       "<table border=\"1\" class=\"dataframe\">\n",
       "  <thead>\n",
       "    <tr style=\"text-align: right;\">\n",
       "      <th></th>\n",
       "      <th>state_x</th>\n",
       "      <th>county</th>\n",
       "      <th>urban</th>\n",
       "      <th>cancer_avg_cost</th>\n",
       "      <th>avg_income</th>\n",
       "    </tr>\n",
       "  </thead>\n",
       "  <tbody>\n",
       "    <tr>\n",
       "      <th>0</th>\n",
       "      <td>TN</td>\n",
       "      <td>Anderson County</td>\n",
       "      <td>Urban</td>\n",
       "      <td>15454</td>\n",
       "      <td>53617.0</td>\n",
       "    </tr>\n",
       "    <tr>\n",
       "      <th>1</th>\n",
       "      <td>TN</td>\n",
       "      <td>Bedford County</td>\n",
       "      <td>Rural</td>\n",
       "      <td>19219</td>\n",
       "      <td>47308.0</td>\n",
       "    </tr>\n",
       "    <tr>\n",
       "      <th>2</th>\n",
       "      <td>TN</td>\n",
       "      <td>Benton County</td>\n",
       "      <td>Rural</td>\n",
       "      <td>21315</td>\n",
       "      <td>41485.0</td>\n",
       "    </tr>\n",
       "    <tr>\n",
       "      <th>3</th>\n",
       "      <td>TN</td>\n",
       "      <td>Bledsoe County</td>\n",
       "      <td>Rural</td>\n",
       "      <td>19250</td>\n",
       "      <td>39919.0</td>\n",
       "    </tr>\n",
       "    <tr>\n",
       "      <th>4</th>\n",
       "      <td>TN</td>\n",
       "      <td>Blount County</td>\n",
       "      <td>Urban</td>\n",
       "      <td>17073</td>\n",
       "      <td>56978.0</td>\n",
       "    </tr>\n",
       "  </tbody>\n",
       "</table>\n",
       "</div>"
      ],
      "text/plain": [
       "  state_x           county  urban  cancer_avg_cost  avg_income\n",
       "0      TN  Anderson County  Urban            15454     53617.0\n",
       "1      TN   Bedford County  Rural            19219     47308.0\n",
       "2      TN    Benton County  Rural            21315     41485.0\n",
       "3      TN   Bledsoe County  Rural            19250     39919.0\n",
       "4      TN    Blount County  Urban            17073     56978.0"
      ]
     },
     "execution_count": 19,
     "metadata": {},
     "output_type": "execute_result"
    }
   ],
   "source": [
    "total_df.head()"
   ]
  },
  {
   "cell_type": "code",
   "execution_count": 20,
   "metadata": {},
   "outputs": [
    {
     "data": {
      "text/plain": [
       "(95, 5)"
      ]
     },
     "execution_count": 20,
     "metadata": {},
     "output_type": "execute_result"
    }
   ],
   "source": [
    "total_df.shape"
   ]
  },
  {
   "cell_type": "code",
   "execution_count": 21,
   "metadata": {},
   "outputs": [],
   "source": [
    "total_df.columns = ['state', 'county', \"urban\", 'cancer_avg_cost', 'avg_income']"
   ]
  },
  {
   "cell_type": "code",
   "execution_count": 22,
   "metadata": {},
   "outputs": [
    {
     "data": {
      "text/html": [
       "<div>\n",
       "<style scoped>\n",
       "    .dataframe tbody tr th:only-of-type {\n",
       "        vertical-align: middle;\n",
       "    }\n",
       "\n",
       "    .dataframe tbody tr th {\n",
       "        vertical-align: top;\n",
       "    }\n",
       "\n",
       "    .dataframe thead th {\n",
       "        text-align: right;\n",
       "    }\n",
       "</style>\n",
       "<table border=\"1\" class=\"dataframe\">\n",
       "  <thead>\n",
       "    <tr style=\"text-align: right;\">\n",
       "      <th></th>\n",
       "      <th>state</th>\n",
       "      <th>county</th>\n",
       "      <th>urban</th>\n",
       "      <th>cancer_avg_cost</th>\n",
       "      <th>avg_income</th>\n",
       "    </tr>\n",
       "  </thead>\n",
       "  <tbody>\n",
       "    <tr>\n",
       "      <th>0</th>\n",
       "      <td>TN</td>\n",
       "      <td>Anderson County</td>\n",
       "      <td>Urban</td>\n",
       "      <td>15454</td>\n",
       "      <td>53617.0</td>\n",
       "    </tr>\n",
       "    <tr>\n",
       "      <th>1</th>\n",
       "      <td>TN</td>\n",
       "      <td>Bedford County</td>\n",
       "      <td>Rural</td>\n",
       "      <td>19219</td>\n",
       "      <td>47308.0</td>\n",
       "    </tr>\n",
       "    <tr>\n",
       "      <th>2</th>\n",
       "      <td>TN</td>\n",
       "      <td>Benton County</td>\n",
       "      <td>Rural</td>\n",
       "      <td>21315</td>\n",
       "      <td>41485.0</td>\n",
       "    </tr>\n",
       "    <tr>\n",
       "      <th>3</th>\n",
       "      <td>TN</td>\n",
       "      <td>Bledsoe County</td>\n",
       "      <td>Rural</td>\n",
       "      <td>19250</td>\n",
       "      <td>39919.0</td>\n",
       "    </tr>\n",
       "    <tr>\n",
       "      <th>4</th>\n",
       "      <td>TN</td>\n",
       "      <td>Blount County</td>\n",
       "      <td>Urban</td>\n",
       "      <td>17073</td>\n",
       "      <td>56978.0</td>\n",
       "    </tr>\n",
       "  </tbody>\n",
       "</table>\n",
       "</div>"
      ],
      "text/plain": [
       "  state           county  urban  cancer_avg_cost  avg_income\n",
       "0    TN  Anderson County  Urban            15454     53617.0\n",
       "1    TN   Bedford County  Rural            19219     47308.0\n",
       "2    TN    Benton County  Rural            21315     41485.0\n",
       "3    TN   Bledsoe County  Rural            19250     39919.0\n",
       "4    TN    Blount County  Urban            17073     56978.0"
      ]
     },
     "execution_count": 22,
     "metadata": {},
     "output_type": "execute_result"
    }
   ],
   "source": [
    "total_df.head()"
   ]
  },
  {
   "cell_type": "code",
   "execution_count": 23,
   "metadata": {},
   "outputs": [],
   "source": [
    "total_df['cancer_cost_ratio'] = total_df['cancer_avg_cost'] / total_df['avg_income']"
   ]
  },
  {
   "cell_type": "code",
   "execution_count": 24,
   "metadata": {},
   "outputs": [
    {
     "data": {
      "text/html": [
       "<div>\n",
       "<style scoped>\n",
       "    .dataframe tbody tr th:only-of-type {\n",
       "        vertical-align: middle;\n",
       "    }\n",
       "\n",
       "    .dataframe tbody tr th {\n",
       "        vertical-align: top;\n",
       "    }\n",
       "\n",
       "    .dataframe thead th {\n",
       "        text-align: right;\n",
       "    }\n",
       "</style>\n",
       "<table border=\"1\" class=\"dataframe\">\n",
       "  <thead>\n",
       "    <tr style=\"text-align: right;\">\n",
       "      <th></th>\n",
       "      <th>state</th>\n",
       "      <th>county</th>\n",
       "      <th>urban</th>\n",
       "      <th>cancer_avg_cost</th>\n",
       "      <th>avg_income</th>\n",
       "      <th>cancer_cost_ratio</th>\n",
       "    </tr>\n",
       "  </thead>\n",
       "  <tbody>\n",
       "    <tr>\n",
       "      <th>0</th>\n",
       "      <td>TN</td>\n",
       "      <td>Anderson County</td>\n",
       "      <td>Urban</td>\n",
       "      <td>15454</td>\n",
       "      <td>53617.0</td>\n",
       "      <td>0.288229</td>\n",
       "    </tr>\n",
       "    <tr>\n",
       "      <th>1</th>\n",
       "      <td>TN</td>\n",
       "      <td>Bedford County</td>\n",
       "      <td>Rural</td>\n",
       "      <td>19219</td>\n",
       "      <td>47308.0</td>\n",
       "      <td>0.406253</td>\n",
       "    </tr>\n",
       "    <tr>\n",
       "      <th>2</th>\n",
       "      <td>TN</td>\n",
       "      <td>Benton County</td>\n",
       "      <td>Rural</td>\n",
       "      <td>21315</td>\n",
       "      <td>41485.0</td>\n",
       "      <td>0.513800</td>\n",
       "    </tr>\n",
       "    <tr>\n",
       "      <th>3</th>\n",
       "      <td>TN</td>\n",
       "      <td>Bledsoe County</td>\n",
       "      <td>Rural</td>\n",
       "      <td>19250</td>\n",
       "      <td>39919.0</td>\n",
       "      <td>0.482227</td>\n",
       "    </tr>\n",
       "    <tr>\n",
       "      <th>4</th>\n",
       "      <td>TN</td>\n",
       "      <td>Blount County</td>\n",
       "      <td>Urban</td>\n",
       "      <td>17073</td>\n",
       "      <td>56978.0</td>\n",
       "      <td>0.299642</td>\n",
       "    </tr>\n",
       "  </tbody>\n",
       "</table>\n",
       "</div>"
      ],
      "text/plain": [
       "  state           county  urban  cancer_avg_cost  avg_income  \\\n",
       "0    TN  Anderson County  Urban            15454     53617.0   \n",
       "1    TN   Bedford County  Rural            19219     47308.0   \n",
       "2    TN    Benton County  Rural            21315     41485.0   \n",
       "3    TN   Bledsoe County  Rural            19250     39919.0   \n",
       "4    TN    Blount County  Urban            17073     56978.0   \n",
       "\n",
       "   cancer_cost_ratio  \n",
       "0           0.288229  \n",
       "1           0.406253  \n",
       "2           0.513800  \n",
       "3           0.482227  \n",
       "4           0.299642  "
      ]
     },
     "execution_count": 24,
     "metadata": {},
     "output_type": "execute_result"
    }
   ],
   "source": [
    "total_df.head()"
   ]
  },
  {
   "cell_type": "code",
   "execution_count": 25,
   "metadata": {},
   "outputs": [
    {
     "data": {
      "text/plain": [
       "0.4304969465069908"
      ]
     },
     "execution_count": 25,
     "metadata": {},
     "output_type": "execute_result"
    }
   ],
   "source": [
    "avg_cancer_ratio = total_df.cancer_cost_ratio.mean()\n",
    "avg_cancer_ratio"
   ]
  },
  {
   "cell_type": "code",
   "execution_count": 26,
   "metadata": {},
   "outputs": [],
   "source": [
    "total_df['above_avg_cancer_ratio'] = total_df['cancer_cost_ratio'] > avg_cancer_ratio"
   ]
  },
  {
   "cell_type": "code",
   "execution_count": 27,
   "metadata": {},
   "outputs": [
    {
     "data": {
      "text/html": [
       "<div>\n",
       "<style scoped>\n",
       "    .dataframe tbody tr th:only-of-type {\n",
       "        vertical-align: middle;\n",
       "    }\n",
       "\n",
       "    .dataframe tbody tr th {\n",
       "        vertical-align: top;\n",
       "    }\n",
       "\n",
       "    .dataframe thead th {\n",
       "        text-align: right;\n",
       "    }\n",
       "</style>\n",
       "<table border=\"1\" class=\"dataframe\">\n",
       "  <thead>\n",
       "    <tr style=\"text-align: right;\">\n",
       "      <th></th>\n",
       "      <th>state</th>\n",
       "      <th>county</th>\n",
       "      <th>urban</th>\n",
       "      <th>cancer_avg_cost</th>\n",
       "      <th>avg_income</th>\n",
       "      <th>cancer_cost_ratio</th>\n",
       "      <th>above_avg_cancer_ratio</th>\n",
       "    </tr>\n",
       "  </thead>\n",
       "  <tbody>\n",
       "    <tr>\n",
       "      <th>0</th>\n",
       "      <td>TN</td>\n",
       "      <td>Anderson County</td>\n",
       "      <td>Urban</td>\n",
       "      <td>15454</td>\n",
       "      <td>53617.0</td>\n",
       "      <td>0.288229</td>\n",
       "      <td>False</td>\n",
       "    </tr>\n",
       "    <tr>\n",
       "      <th>1</th>\n",
       "      <td>TN</td>\n",
       "      <td>Bedford County</td>\n",
       "      <td>Rural</td>\n",
       "      <td>19219</td>\n",
       "      <td>47308.0</td>\n",
       "      <td>0.406253</td>\n",
       "      <td>False</td>\n",
       "    </tr>\n",
       "    <tr>\n",
       "      <th>2</th>\n",
       "      <td>TN</td>\n",
       "      <td>Benton County</td>\n",
       "      <td>Rural</td>\n",
       "      <td>21315</td>\n",
       "      <td>41485.0</td>\n",
       "      <td>0.513800</td>\n",
       "      <td>True</td>\n",
       "    </tr>\n",
       "    <tr>\n",
       "      <th>3</th>\n",
       "      <td>TN</td>\n",
       "      <td>Bledsoe County</td>\n",
       "      <td>Rural</td>\n",
       "      <td>19250</td>\n",
       "      <td>39919.0</td>\n",
       "      <td>0.482227</td>\n",
       "      <td>True</td>\n",
       "    </tr>\n",
       "    <tr>\n",
       "      <th>4</th>\n",
       "      <td>TN</td>\n",
       "      <td>Blount County</td>\n",
       "      <td>Urban</td>\n",
       "      <td>17073</td>\n",
       "      <td>56978.0</td>\n",
       "      <td>0.299642</td>\n",
       "      <td>False</td>\n",
       "    </tr>\n",
       "  </tbody>\n",
       "</table>\n",
       "</div>"
      ],
      "text/plain": [
       "  state           county  urban  cancer_avg_cost  avg_income  \\\n",
       "0    TN  Anderson County  Urban            15454     53617.0   \n",
       "1    TN   Bedford County  Rural            19219     47308.0   \n",
       "2    TN    Benton County  Rural            21315     41485.0   \n",
       "3    TN   Bledsoe County  Rural            19250     39919.0   \n",
       "4    TN    Blount County  Urban            17073     56978.0   \n",
       "\n",
       "   cancer_cost_ratio  above_avg_cancer_ratio  \n",
       "0           0.288229                   False  \n",
       "1           0.406253                   False  \n",
       "2           0.513800                    True  \n",
       "3           0.482227                    True  \n",
       "4           0.299642                   False  "
      ]
     },
     "execution_count": 27,
     "metadata": {},
     "output_type": "execute_result"
    }
   ],
   "source": [
    "total_df.head()"
   ]
  },
  {
   "cell_type": "code",
   "execution_count": 28,
   "metadata": {},
   "outputs": [
    {
     "data": {
      "text/html": [
       "<div>\n",
       "<style scoped>\n",
       "    .dataframe tbody tr th:only-of-type {\n",
       "        vertical-align: middle;\n",
       "    }\n",
       "\n",
       "    .dataframe tbody tr th {\n",
       "        vertical-align: top;\n",
       "    }\n",
       "\n",
       "    .dataframe thead th {\n",
       "        text-align: right;\n",
       "    }\n",
       "</style>\n",
       "<table border=\"1\" class=\"dataframe\">\n",
       "  <thead>\n",
       "    <tr style=\"text-align: right;\">\n",
       "      <th></th>\n",
       "      <th>state</th>\n",
       "      <th>county</th>\n",
       "      <th>cancer_avg_cost</th>\n",
       "      <th>avg_income</th>\n",
       "      <th>cancer_cost_ratio</th>\n",
       "      <th>above_avg_cancer_ratio</th>\n",
       "      <th>urban_Urban</th>\n",
       "    </tr>\n",
       "  </thead>\n",
       "  <tbody>\n",
       "    <tr>\n",
       "      <th>0</th>\n",
       "      <td>TN</td>\n",
       "      <td>Anderson County</td>\n",
       "      <td>15454</td>\n",
       "      <td>53617.0</td>\n",
       "      <td>0.288229</td>\n",
       "      <td>False</td>\n",
       "      <td>1</td>\n",
       "    </tr>\n",
       "    <tr>\n",
       "      <th>1</th>\n",
       "      <td>TN</td>\n",
       "      <td>Bedford County</td>\n",
       "      <td>19219</td>\n",
       "      <td>47308.0</td>\n",
       "      <td>0.406253</td>\n",
       "      <td>False</td>\n",
       "      <td>0</td>\n",
       "    </tr>\n",
       "    <tr>\n",
       "      <th>2</th>\n",
       "      <td>TN</td>\n",
       "      <td>Benton County</td>\n",
       "      <td>21315</td>\n",
       "      <td>41485.0</td>\n",
       "      <td>0.513800</td>\n",
       "      <td>True</td>\n",
       "      <td>0</td>\n",
       "    </tr>\n",
       "    <tr>\n",
       "      <th>3</th>\n",
       "      <td>TN</td>\n",
       "      <td>Bledsoe County</td>\n",
       "      <td>19250</td>\n",
       "      <td>39919.0</td>\n",
       "      <td>0.482227</td>\n",
       "      <td>True</td>\n",
       "      <td>0</td>\n",
       "    </tr>\n",
       "    <tr>\n",
       "      <th>4</th>\n",
       "      <td>TN</td>\n",
       "      <td>Blount County</td>\n",
       "      <td>17073</td>\n",
       "      <td>56978.0</td>\n",
       "      <td>0.299642</td>\n",
       "      <td>False</td>\n",
       "      <td>1</td>\n",
       "    </tr>\n",
       "  </tbody>\n",
       "</table>\n",
       "</div>"
      ],
      "text/plain": [
       "  state           county  cancer_avg_cost  avg_income  cancer_cost_ratio  \\\n",
       "0    TN  Anderson County            15454     53617.0           0.288229   \n",
       "1    TN   Bedford County            19219     47308.0           0.406253   \n",
       "2    TN    Benton County            21315     41485.0           0.513800   \n",
       "3    TN   Bledsoe County            19250     39919.0           0.482227   \n",
       "4    TN    Blount County            17073     56978.0           0.299642   \n",
       "\n",
       "   above_avg_cancer_ratio  urban_Urban  \n",
       "0                   False            1  \n",
       "1                   False            0  \n",
       "2                    True            0  \n",
       "3                    True            0  \n",
       "4                   False            1  "
      ]
     },
     "execution_count": 28,
     "metadata": {},
     "output_type": "execute_result"
    }
   ],
   "source": [
    "total_df = pd.get_dummies(total_df, columns = ['urban'], drop_first = True)\n",
    "total_df.head()"
   ]
  },
  {
   "cell_type": "code",
   "execution_count": 43,
   "metadata": {},
   "outputs": [
    {
     "data": {
      "text/plain": [
       "(95, 7)"
      ]
     },
     "execution_count": 43,
     "metadata": {},
     "output_type": "execute_result"
    }
   ],
   "source": [
    "total_df.shape"
   ]
  },
  {
   "cell_type": "code",
   "execution_count": 55,
   "metadata": {},
   "outputs": [],
   "source": [
    "final_df = total_df.drop(columns = ['state', 'county', 'cancer_avg_cost', 'avg_income'])"
   ]
  },
  {
   "cell_type": "code",
   "execution_count": 56,
   "metadata": {},
   "outputs": [
    {
     "data": {
      "text/html": [
       "<div>\n",
       "<style scoped>\n",
       "    .dataframe tbody tr th:only-of-type {\n",
       "        vertical-align: middle;\n",
       "    }\n",
       "\n",
       "    .dataframe tbody tr th {\n",
       "        vertical-align: top;\n",
       "    }\n",
       "\n",
       "    .dataframe thead th {\n",
       "        text-align: right;\n",
       "    }\n",
       "</style>\n",
       "<table border=\"1\" class=\"dataframe\">\n",
       "  <thead>\n",
       "    <tr style=\"text-align: right;\">\n",
       "      <th></th>\n",
       "      <th>cancer_cost_ratio</th>\n",
       "      <th>above_avg_cancer_ratio</th>\n",
       "      <th>urban_Urban</th>\n",
       "    </tr>\n",
       "  </thead>\n",
       "  <tbody>\n",
       "    <tr>\n",
       "      <th>0</th>\n",
       "      <td>0.288229</td>\n",
       "      <td>False</td>\n",
       "      <td>1</td>\n",
       "    </tr>\n",
       "    <tr>\n",
       "      <th>1</th>\n",
       "      <td>0.406253</td>\n",
       "      <td>False</td>\n",
       "      <td>0</td>\n",
       "    </tr>\n",
       "    <tr>\n",
       "      <th>2</th>\n",
       "      <td>0.513800</td>\n",
       "      <td>True</td>\n",
       "      <td>0</td>\n",
       "    </tr>\n",
       "    <tr>\n",
       "      <th>3</th>\n",
       "      <td>0.482227</td>\n",
       "      <td>True</td>\n",
       "      <td>0</td>\n",
       "    </tr>\n",
       "    <tr>\n",
       "      <th>4</th>\n",
       "      <td>0.299642</td>\n",
       "      <td>False</td>\n",
       "      <td>1</td>\n",
       "    </tr>\n",
       "  </tbody>\n",
       "</table>\n",
       "</div>"
      ],
      "text/plain": [
       "   cancer_cost_ratio  above_avg_cancer_ratio  urban_Urban\n",
       "0           0.288229                   False            1\n",
       "1           0.406253                   False            0\n",
       "2           0.513800                    True            0\n",
       "3           0.482227                    True            0\n",
       "4           0.299642                   False            1"
      ]
     },
     "execution_count": 56,
     "metadata": {},
     "output_type": "execute_result"
    }
   ],
   "source": [
    "final_df.head()"
   ]
  },
  {
   "cell_type": "code",
   "execution_count": 57,
   "metadata": {},
   "outputs": [],
   "source": [
    "X = final_df.drop(columns = 'above_avg_cancer_ratio')"
   ]
  },
  {
   "cell_type": "code",
   "execution_count": 58,
   "metadata": {},
   "outputs": [],
   "source": [
    "Y = final_df.above_avg_cancer_ratio"
   ]
  },
  {
   "cell_type": "code",
   "execution_count": 79,
   "metadata": {},
   "outputs": [
    {
     "data": {
      "text/html": [
       "<div>\n",
       "<style scoped>\n",
       "    .dataframe tbody tr th:only-of-type {\n",
       "        vertical-align: middle;\n",
       "    }\n",
       "\n",
       "    .dataframe tbody tr th {\n",
       "        vertical-align: top;\n",
       "    }\n",
       "\n",
       "    .dataframe thead th {\n",
       "        text-align: right;\n",
       "    }\n",
       "</style>\n",
       "<table border=\"1\" class=\"dataframe\">\n",
       "  <thead>\n",
       "    <tr style=\"text-align: right;\">\n",
       "      <th></th>\n",
       "      <th>cancer_cost_ratio</th>\n",
       "      <th>urban_Urban</th>\n",
       "    </tr>\n",
       "  </thead>\n",
       "  <tbody>\n",
       "    <tr>\n",
       "      <th>0</th>\n",
       "      <td>0.288229</td>\n",
       "      <td>1</td>\n",
       "    </tr>\n",
       "    <tr>\n",
       "      <th>1</th>\n",
       "      <td>0.406253</td>\n",
       "      <td>0</td>\n",
       "    </tr>\n",
       "    <tr>\n",
       "      <th>2</th>\n",
       "      <td>0.513800</td>\n",
       "      <td>0</td>\n",
       "    </tr>\n",
       "    <tr>\n",
       "      <th>3</th>\n",
       "      <td>0.482227</td>\n",
       "      <td>0</td>\n",
       "    </tr>\n",
       "    <tr>\n",
       "      <th>4</th>\n",
       "      <td>0.299642</td>\n",
       "      <td>1</td>\n",
       "    </tr>\n",
       "  </tbody>\n",
       "</table>\n",
       "</div>"
      ],
      "text/plain": [
       "   cancer_cost_ratio  urban_Urban\n",
       "0           0.288229            1\n",
       "1           0.406253            0\n",
       "2           0.513800            0\n",
       "3           0.482227            0\n",
       "4           0.299642            1"
      ]
     },
     "execution_count": 79,
     "metadata": {},
     "output_type": "execute_result"
    }
   ],
   "source": [
    "X.shape\n",
    "X.head()"
   ]
  },
  {
   "cell_type": "code",
   "execution_count": 80,
   "metadata": {},
   "outputs": [
    {
     "data": {
      "text/plain": [
       "0    False\n",
       "1    False\n",
       "2     True\n",
       "3     True\n",
       "4    False\n",
       "Name: above_avg_cancer_ratio, dtype: bool"
      ]
     },
     "execution_count": 80,
     "metadata": {},
     "output_type": "execute_result"
    }
   ],
   "source": [
    "Y.shape\n",
    "Y.head()"
   ]
  },
  {
   "cell_type": "code",
   "execution_count": 81,
   "metadata": {},
   "outputs": [],
   "source": [
    "X_train, X_test, Y_train, Y_test = train_test_split(X, Y, random_state = 41)"
   ]
  },
  {
   "cell_type": "code",
   "execution_count": 82,
   "metadata": {},
   "outputs": [
    {
     "name": "stdout",
     "output_type": "stream",
     "text": [
      "    cancer_cost_ratio  urban_Urban\n",
      "79           0.345875            1\n",
      "7            0.399894            1\n",
      "62           0.426669            1\n",
      "11           0.539555            1\n",
      "16           0.416308            0\n",
      "..                ...          ...\n",
      "65           0.486786            0\n",
      "80           0.612822            1\n",
      "12           0.483616            0\n",
      "35           0.506649            0\n",
      "64           0.396359            0\n",
      "\n",
      "[71 rows x 2 columns]\n"
     ]
    }
   ],
   "source": [
    "print(X_train)"
   ]
  },
  {
   "cell_type": "code",
   "execution_count": 83,
   "metadata": {},
   "outputs": [],
   "source": [
    "from sklearn.ensemble import RandomForestClassifier\n",
    "from sklearn.tree import DecisionTreeClassifier, export_graphviz\n",
    "#import graphviz\n",
    "from IPython.display import SVG"
   ]
  },
  {
   "cell_type": "code",
   "execution_count": 84,
   "metadata": {},
   "outputs": [
    {
     "data": {
      "text/plain": [
       "DecisionTreeClassifier()"
      ]
     },
     "execution_count": 84,
     "metadata": {},
     "output_type": "execute_result"
    }
   ],
   "source": [
    "tree = DecisionTreeClassifier()\n",
    "tree.fit(X_train, Y_train)"
   ]
  },
  {
   "cell_type": "code",
   "execution_count": 85,
   "metadata": {},
   "outputs": [
    {
     "name": "stdout",
     "output_type": "stream",
     "text": [
      "1.0\n"
     ]
    }
   ],
   "source": [
    "Y_pred_train = tree.predict(X_train)\n",
    "print(metrics.accuracy_score(Y_train, Y_pred_train))"
   ]
  },
  {
   "cell_type": "code",
   "execution_count": 86,
   "metadata": {},
   "outputs": [
    {
     "name": "stdout",
     "output_type": "stream",
     "text": [
      "1.0\n"
     ]
    }
   ],
   "source": [
    "Y_pred = tree.predict(X_test)\n",
    "print(metrics.accuracy_score(Y_test, Y_pred))"
   ]
  },
  {
   "cell_type": "code",
   "execution_count": 87,
   "metadata": {},
   "outputs": [
    {
     "data": {
      "text/plain": [
       "RandomForestClassifier()"
      ]
     },
     "execution_count": 87,
     "metadata": {},
     "output_type": "execute_result"
    }
   ],
   "source": [
    "forest = RandomForestClassifier()\n",
    "forest.fit(X_train, Y_train)"
   ]
  },
  {
   "cell_type": "code",
   "execution_count": 88,
   "metadata": {},
   "outputs": [
    {
     "name": "stdout",
     "output_type": "stream",
     "text": [
      "1.0\n"
     ]
    }
   ],
   "source": [
    "Y_pred_train = forest.predict(X_train)\n",
    "print(metrics.accuracy_score(Y_train, Y_pred_train))"
   ]
  },
  {
   "cell_type": "code",
   "execution_count": 89,
   "metadata": {},
   "outputs": [
    {
     "name": "stdout",
     "output_type": "stream",
     "text": [
      "1.0\n"
     ]
    }
   ],
   "source": [
    "Y_pred = forest.predict(X_test)\n",
    "print(metrics.accuracy_score(Y_test, Y_pred))"
   ]
  },
  {
   "cell_type": "code",
   "execution_count": 90,
   "metadata": {},
   "outputs": [
    {
     "data": {
      "text/plain": [
       "RandomForestClassifier(max_depth=5, min_samples_leaf=5, n_estimators=1000)"
      ]
     },
     "execution_count": 90,
     "metadata": {},
     "output_type": "execute_result"
    }
   ],
   "source": [
    "forest = RandomForestClassifier(n_estimators = 1000, max_depth = 5, min_samples_leaf = 5)\n",
    "forest.fit(X_train, Y_train)"
   ]
  },
  {
   "cell_type": "code",
   "execution_count": 91,
   "metadata": {},
   "outputs": [
    {
     "name": "stdout",
     "output_type": "stream",
     "text": [
      "1.0\n"
     ]
    }
   ],
   "source": [
    "Y_pred_train = forest.predict(X_train)\n",
    "print(metrics.accuracy_score(Y_train, Y_pred_train))"
   ]
  },
  {
   "cell_type": "code",
   "execution_count": 92,
   "metadata": {},
   "outputs": [
    {
     "name": "stdout",
     "output_type": "stream",
     "text": [
      "1.0\n"
     ]
    }
   ],
   "source": [
    "Y_pred = forest.predict(X_test)\n",
    "print(metrics.accuracy_score(Y_test, Y_pred))"
   ]
  },
  {
   "cell_type": "code",
   "execution_count": 78,
   "metadata": {},
   "outputs": [
    {
     "data": {
      "image/png": "[encoded data removed]",
      "text/plain": [
       "<Figure size 504x360 with 1 Axes>"
      ]
     },
     "metadata": {
      "needs_background": "light"
     },
     "output_type": "display_data"
    }
   ],
   "source": [
    "fig, ax = plt.subplots(figsize = (7,5))\n",
    "sns.barplot(x = forest.feature_importances_, y = list(X.columns), ax = ax, edgecolor = 'black')\n",
    "plt.title('Random Forest Feature Importance');"
   ]
  }
 ],
 "metadata": {
  "kernelspec": {
   "display_name": "Python 3",
   "language": "python",
   "name": "python3"
  },
  "language_info": {
   "codemirror_mode": {
    "name": "ipython",
    "version": 3
   },
   "file_extension": ".py",
   "mimetype": "text/x-python",
   "name": "python",
   "nbconvert_exporter": "python",
   "pygments_lexer": "ipython3",
   "version": "3.8.3"
  }
 },
 "nbformat": 4,
 "nbformat_minor": 2
}
