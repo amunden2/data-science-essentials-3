{
 "cells": [
  {
   "cell_type": "markdown",
   "metadata": {},
   "source": [
    "#### Build a model that will predict whether the **average cost to income ratio for cancer** care is above the average ratio or equal to or below the average ratio.\n",
    "\n",
    "**Important:** From here on out, you will be working with _all_ states, not just Tennessee!"
   ]
  },
  {
   "cell_type": "code",
   "execution_count": 2,
   "metadata": {},
   "outputs": [],
   "source": [
    "import pandas as pd\n",
    "import matplotlib.pyplot as plt\n",
    "import seaborn as sns\n",
    "from sklearn.model_selection import train_test_split\n",
    "from sklearn.linear_model import LogisticRegression\n",
    "from sklearn import metrics\n",
    "\n",
    "from cm import plot_confusion_matrix\n",
    "\n",
    "%matplotlib inline"
   ]
  },
  {
   "cell_type": "markdown",
   "metadata": {},
   "source": [
    "### First, read in the cancer data, rename the `analysis_value` column, and slice down to the columns we care about."
   ]
  },
  {
   "cell_type": "code",
   "execution_count": 3,
   "metadata": {},
   "outputs": [
    {
     "data": {
      "text/html": [
       "<div>\n",
       "<style scoped>\n",
       "    .dataframe tbody tr th:only-of-type {\n",
       "        vertical-align: middle;\n",
       "    }\n",
       "\n",
       "    .dataframe tbody tr th {\n",
       "        vertical-align: top;\n",
       "    }\n",
       "\n",
       "    .dataframe thead th {\n",
       "        text-align: right;\n",
       "    }\n",
       "</style>\n",
       "<table border=\"1\" class=\"dataframe\">\n",
       "  <thead>\n",
       "    <tr style=\"text-align: right;\">\n",
       "      <th></th>\n",
       "      <th>state</th>\n",
       "      <th>county</th>\n",
       "      <th>urban</th>\n",
       "      <th>cancer_avg_cost</th>\n",
       "    </tr>\n",
       "  </thead>\n",
       "  <tbody>\n",
       "    <tr>\n",
       "      <th>0</th>\n",
       "      <td>ALABAMA</td>\n",
       "      <td>Autauga County</td>\n",
       "      <td>Urban</td>\n",
       "      <td>19293</td>\n",
       "    </tr>\n",
       "    <tr>\n",
       "      <th>1</th>\n",
       "      <td>ALABAMA</td>\n",
       "      <td>Baldwin County</td>\n",
       "      <td>Rural</td>\n",
       "      <td>17151</td>\n",
       "    </tr>\n",
       "  </tbody>\n",
       "</table>\n",
       "</div>"
      ],
      "text/plain": [
       "     state          county  urban  cancer_avg_cost\n",
       "0  ALABAMA  Autauga County  Urban            19293\n",
       "1  ALABAMA  Baldwin County  Rural            17151"
      ]
     },
     "execution_count": 3,
     "metadata": {},
     "output_type": "execute_result"
    }
   ],
   "source": [
    "cancer_costs_df = pd.read_csv('../data/mmd_cancer_data.csv')\n",
    "cancer_costs_df = cancer_costs_df.rename(columns = {'analysis_value': 'cancer_avg_cost'})\n",
    "cancer_costs_df = cancer_costs_df[['state', 'county', 'urban', 'cancer_avg_cost']]\n",
    "cancer_costs_df.head(2)"
   ]
  },
  {
   "cell_type": "markdown",
   "metadata": {},
   "source": [
    "### Import income data, aggregate, and slice down to the columns we care about."
   ]
  },
  {
   "cell_type": "code",
   "execution_count": 7,
   "metadata": {},
   "outputs": [
    {
     "data": {
      "text/html": [
       "<div>\n",
       "<style scoped>\n",
       "    .dataframe tbody tr th:only-of-type {\n",
       "        vertical-align: middle;\n",
       "    }\n",
       "\n",
       "    .dataframe tbody tr th {\n",
       "        vertical-align: top;\n",
       "    }\n",
       "\n",
       "    .dataframe thead th {\n",
       "        text-align: right;\n",
       "    }\n",
       "</style>\n",
       "<table border=\"1\" class=\"dataframe\">\n",
       "  <thead>\n",
       "    <tr style=\"text-align: right;\">\n",
       "      <th></th>\n",
       "      <th>state</th>\n",
       "      <th>county</th>\n",
       "      <th>returns_with_total_inc</th>\n",
       "      <th>total_inc_amt</th>\n",
       "    </tr>\n",
       "  </thead>\n",
       "  <tbody>\n",
       "    <tr>\n",
       "      <th>0</th>\n",
       "      <td>AL</td>\n",
       "      <td>Alabama</td>\n",
       "      <td>19140</td>\n",
       "      <td>-1657452</td>\n",
       "    </tr>\n",
       "    <tr>\n",
       "      <th>1</th>\n",
       "      <td>AL</td>\n",
       "      <td>Alabama</td>\n",
       "      <td>285760</td>\n",
       "      <td>1632624</td>\n",
       "    </tr>\n",
       "    <tr>\n",
       "      <th>2</th>\n",
       "      <td>AL</td>\n",
       "      <td>Alabama</td>\n",
       "      <td>529780</td>\n",
       "      <td>9158151</td>\n",
       "    </tr>\n",
       "    <tr>\n",
       "      <th>3</th>\n",
       "      <td>AL</td>\n",
       "      <td>Alabama</td>\n",
       "      <td>495750</td>\n",
       "      <td>18016190</td>\n",
       "    </tr>\n",
       "    <tr>\n",
       "      <th>4</th>\n",
       "      <td>AL</td>\n",
       "      <td>Alabama</td>\n",
       "      <td>263130</td>\n",
       "      <td>16321828</td>\n",
       "    </tr>\n",
       "  </tbody>\n",
       "</table>\n",
       "</div>"
      ],
      "text/plain": [
       "  state   county  returns_with_total_inc  total_inc_amt\n",
       "0    AL  Alabama                   19140       -1657452\n",
       "1    AL  Alabama                  285760        1632624\n",
       "2    AL  Alabama                  529780        9158151\n",
       "3    AL  Alabama                  495750       18016190\n",
       "4    AL  Alabama                  263130       16321828"
      ]
     },
     "execution_count": 7,
     "metadata": {},
     "output_type": "execute_result"
    }
   ],
   "source": [
    "income_df = pd.read_csv('../data/irs_county_2016.csv')\n",
    "income_df = income_df[['STATE', 'COUNTYNAME', 'N02650', 'A02650']]\n",
    "income_df.columns = ['state', 'county', 'returns_with_total_inc','total_inc_amt']\n",
    "income_df.head()"
   ]
  },
  {
   "cell_type": "markdown",
   "metadata": {},
   "source": [
    "Note that we must `groupby` both `state` **and** county."
   ]
  },
  {
   "cell_type": "code",
   "execution_count": 9,
   "metadata": {},
   "outputs": [
    {
     "data": {
      "text/html": [
       "<div>\n",
       "<style scoped>\n",
       "    .dataframe tbody tr th:only-of-type {\n",
       "        vertical-align: middle;\n",
       "    }\n",
       "\n",
       "    .dataframe tbody tr th {\n",
       "        vertical-align: top;\n",
       "    }\n",
       "\n",
       "    .dataframe thead th {\n",
       "        text-align: right;\n",
       "    }\n",
       "</style>\n",
       "<table border=\"1\" class=\"dataframe\">\n",
       "  <thead>\n",
       "    <tr style=\"text-align: right;\">\n",
       "      <th></th>\n",
       "      <th>state</th>\n",
       "      <th>county</th>\n",
       "      <th>avg_income</th>\n",
       "    </tr>\n",
       "  </thead>\n",
       "  <tbody>\n",
       "    <tr>\n",
       "      <th>0</th>\n",
       "      <td>AK</td>\n",
       "      <td>Alaska</td>\n",
       "      <td>68636.0</td>\n",
       "    </tr>\n",
       "    <tr>\n",
       "      <th>1</th>\n",
       "      <td>AK</td>\n",
       "      <td>Aleutians East Borou</td>\n",
       "      <td>48984.0</td>\n",
       "    </tr>\n",
       "  </tbody>\n",
       "</table>\n",
       "</div>"
      ],
      "text/plain": [
       "  state                county  avg_income\n",
       "0    AK                Alaska     68636.0\n",
       "1    AK  Aleutians East Borou     48984.0"
      ]
     },
     "execution_count": 9,
     "metadata": {},
     "output_type": "execute_result"
    }
   ],
   "source": [
    "income_agg = income_df.groupby(['state','county']).agg('sum').reset_index()\n",
    "income_agg['avg_income'] = round(income_agg.total_inc_amt * 1000 / income_agg.returns_with_total_inc, 0)\n",
    "income_agg = income_agg[['state','county', 'avg_income']]\n",
    "income_agg.head(2)"
   ]
  },
  {
   "cell_type": "markdown",
   "metadata": {},
   "source": [
    "### Before you can merge county incomes and combined_df, the data is the `state` columns will need to match"
   ]
  },
  {
   "cell_type": "code",
   "execution_count": 10,
   "metadata": {},
   "outputs": [
    {
     "data": {
      "text/html": [
       "<div>\n",
       "<style scoped>\n",
       "    .dataframe tbody tr th:only-of-type {\n",
       "        vertical-align: middle;\n",
       "    }\n",
       "\n",
       "    .dataframe tbody tr th {\n",
       "        vertical-align: top;\n",
       "    }\n",
       "\n",
       "    .dataframe thead th {\n",
       "        text-align: right;\n",
       "    }\n",
       "</style>\n",
       "<table border=\"1\" class=\"dataframe\">\n",
       "  <thead>\n",
       "    <tr style=\"text-align: right;\">\n",
       "      <th></th>\n",
       "      <th>name</th>\n",
       "      <th>abbrev</th>\n",
       "    </tr>\n",
       "  </thead>\n",
       "  <tbody>\n",
       "    <tr>\n",
       "      <th>0</th>\n",
       "      <td>ALABAMA</td>\n",
       "      <td>AL</td>\n",
       "    </tr>\n",
       "    <tr>\n",
       "      <th>1</th>\n",
       "      <td>ALASKA</td>\n",
       "      <td>AK</td>\n",
       "    </tr>\n",
       "  </tbody>\n",
       "</table>\n",
       "</div>"
      ],
      "text/plain": [
       "      name abbrev\n",
       "0  ALABAMA     AL\n",
       "1   ALASKA     AK"
      ]
     },
     "execution_count": 10,
     "metadata": {},
     "output_type": "execute_result"
    }
   ],
   "source": [
    "state_abbrev = pd.read_csv('../data/state_abbrev.csv')\n",
    "state_abbrev.head(2)"
   ]
  },
  {
   "cell_type": "code",
   "execution_count": 11,
   "metadata": {},
   "outputs": [
    {
     "data": {
      "text/html": [
       "<div>\n",
       "<style scoped>\n",
       "    .dataframe tbody tr th:only-of-type {\n",
       "        vertical-align: middle;\n",
       "    }\n",
       "\n",
       "    .dataframe tbody tr th {\n",
       "        vertical-align: top;\n",
       "    }\n",
       "\n",
       "    .dataframe thead th {\n",
       "        text-align: right;\n",
       "    }\n",
       "</style>\n",
       "<table border=\"1\" class=\"dataframe\">\n",
       "  <thead>\n",
       "    <tr style=\"text-align: right;\">\n",
       "      <th></th>\n",
       "      <th>state</th>\n",
       "      <th>county</th>\n",
       "      <th>urban</th>\n",
       "      <th>cancer_avg_cost</th>\n",
       "    </tr>\n",
       "  </thead>\n",
       "  <tbody>\n",
       "    <tr>\n",
       "      <th>0</th>\n",
       "      <td>ALABAMA</td>\n",
       "      <td>Autauga County</td>\n",
       "      <td>Urban</td>\n",
       "      <td>19293</td>\n",
       "    </tr>\n",
       "    <tr>\n",
       "      <th>1</th>\n",
       "      <td>ALABAMA</td>\n",
       "      <td>Baldwin County</td>\n",
       "      <td>Rural</td>\n",
       "      <td>17151</td>\n",
       "    </tr>\n",
       "  </tbody>\n",
       "</table>\n",
       "</div>"
      ],
      "text/plain": [
       "     state          county  urban  cancer_avg_cost\n",
       "0  ALABAMA  Autauga County  Urban            19293\n",
       "1  ALABAMA  Baldwin County  Rural            17151"
      ]
     },
     "execution_count": 11,
     "metadata": {},
     "output_type": "execute_result"
    }
   ],
   "source": [
    "cancer_costs_df.head(2)"
   ]
  },
  {
   "cell_type": "code",
   "execution_count": 61,
   "metadata": {},
   "outputs": [
    {
     "data": {
      "text/plain": [
       "{'ALABAMA': 'AL',\n",
       " 'ALASKA': 'AK',\n",
       " 'ARIZONA': 'AZ',\n",
       " 'ARKANSAS': 'AR',\n",
       " 'CALIFORNIA': 'CA',\n",
       " 'COLORADO': 'CO',\n",
       " 'CONNECTICUT': 'CT',\n",
       " 'DELAWARE': 'DE',\n",
       " 'DISTRICT OF COLUMBIA': 'DC',\n",
       " 'FLORIDA': 'FL',\n",
       " 'GEORGIA': 'GA',\n",
       " 'HAWAII': 'HI',\n",
       " 'IDAHO': 'ID',\n",
       " 'ILLINOIS': 'IL',\n",
       " 'INDIANA': 'IN',\n",
       " 'IOWA': 'IA',\n",
       " 'KANSAS': 'KS',\n",
       " 'KENTUCKY': 'KY',\n",
       " 'LOUISIANA': 'LA',\n",
       " 'MAINE': 'ME',\n",
       " 'MARYLAND': 'MD',\n",
       " 'MASSACHUSETTS': 'MA',\n",
       " 'MICHIGAN': 'MI',\n",
       " 'MINNESOTA': 'MN',\n",
       " 'MISSISSIPPI': 'MS',\n",
       " 'MISSOURI': 'MO',\n",
       " 'MONTANA': 'MT',\n",
       " 'NEBRASKA': 'NE',\n",
       " 'NEVADA': 'NV',\n",
       " 'NEW HAMPSHIRE': 'NH',\n",
       " 'NEW JERSEY': 'NJ',\n",
       " 'NEW MEXICO': 'NM',\n",
       " 'NEW YORK': 'NY',\n",
       " 'NORTH CAROLINA': 'NC',\n",
       " 'NORTH DAKOTA': 'ND',\n",
       " 'OHIO': 'OH',\n",
       " 'OKLAHOMA': 'OK',\n",
       " 'OREGON': 'OR',\n",
       " 'PENNSYLVANIA': 'PA',\n",
       " 'RHODE ISLAND': 'RI',\n",
       " 'SOUTH CAROLINA': 'SC',\n",
       " 'SOUTH DAKOTA': 'SD',\n",
       " 'TENNESSEE': 'TN',\n",
       " 'TEXAS': 'TX',\n",
       " 'UTAH': 'UT',\n",
       " 'VERMONT': 'VT',\n",
       " 'VIRGINIA': 'VA',\n",
       " 'WASHINGTON': 'WA',\n",
       " 'WEST VIRGINIA': 'WV',\n",
       " 'WISCONSIN': 'WI',\n",
       " 'WYOMING': 'WY',\n",
       " 'PUERTO RICO': 'PR'}"
      ]
     },
     "execution_count": 61,
     "metadata": {},
     "output_type": "execute_result"
    }
   ],
   "source": [
    "state_abbrev.set_index('name')['abbrev'].to_dict()"
   ]
  },
  {
   "cell_type": "code",
   "execution_count": 12,
   "metadata": {},
   "outputs": [
    {
     "data": {
      "text/html": [
       "<div>\n",
       "<style scoped>\n",
       "    .dataframe tbody tr th:only-of-type {\n",
       "        vertical-align: middle;\n",
       "    }\n",
       "\n",
       "    .dataframe tbody tr th {\n",
       "        vertical-align: top;\n",
       "    }\n",
       "\n",
       "    .dataframe thead th {\n",
       "        text-align: right;\n",
       "    }\n",
       "</style>\n",
       "<table border=\"1\" class=\"dataframe\">\n",
       "  <thead>\n",
       "    <tr style=\"text-align: right;\">\n",
       "      <th></th>\n",
       "      <th>state</th>\n",
       "      <th>county</th>\n",
       "      <th>urban</th>\n",
       "      <th>cancer_avg_cost</th>\n",
       "    </tr>\n",
       "  </thead>\n",
       "  <tbody>\n",
       "    <tr>\n",
       "      <th>0</th>\n",
       "      <td>AL</td>\n",
       "      <td>Autauga County</td>\n",
       "      <td>Urban</td>\n",
       "      <td>19293</td>\n",
       "    </tr>\n",
       "    <tr>\n",
       "      <th>1</th>\n",
       "      <td>AL</td>\n",
       "      <td>Baldwin County</td>\n",
       "      <td>Rural</td>\n",
       "      <td>17151</td>\n",
       "    </tr>\n",
       "  </tbody>\n",
       "</table>\n",
       "</div>"
      ],
      "text/plain": [
       "  state          county  urban  cancer_avg_cost\n",
       "0    AL  Autauga County  Urban            19293\n",
       "1    AL  Baldwin County  Rural            17151"
      ]
     },
     "execution_count": 12,
     "metadata": {},
     "output_type": "execute_result"
    }
   ],
   "source": [
    "cancer_costs_df['state'] = cancer_costs_df['state'].map(state_abbrev.set_index('name')['abbrev'].to_dict())\n",
    "cancer_costs_df.head(2)"
   ]
  },
  {
   "cell_type": "code",
   "execution_count": 13,
   "metadata": {},
   "outputs": [
    {
     "data": {
      "text/html": [
       "<div>\n",
       "<style scoped>\n",
       "    .dataframe tbody tr th:only-of-type {\n",
       "        vertical-align: middle;\n",
       "    }\n",
       "\n",
       "    .dataframe tbody tr th {\n",
       "        vertical-align: top;\n",
       "    }\n",
       "\n",
       "    .dataframe thead th {\n",
       "        text-align: right;\n",
       "    }\n",
       "</style>\n",
       "<table border=\"1\" class=\"dataframe\">\n",
       "  <thead>\n",
       "    <tr style=\"text-align: right;\">\n",
       "      <th></th>\n",
       "      <th>state</th>\n",
       "      <th>county</th>\n",
       "      <th>urban</th>\n",
       "      <th>cancer_avg_cost</th>\n",
       "      <th>avg_income</th>\n",
       "    </tr>\n",
       "  </thead>\n",
       "  <tbody>\n",
       "    <tr>\n",
       "      <th>0</th>\n",
       "      <td>AL</td>\n",
       "      <td>Autauga County</td>\n",
       "      <td>Urban</td>\n",
       "      <td>19293</td>\n",
       "      <td>55843.0</td>\n",
       "    </tr>\n",
       "    <tr>\n",
       "      <th>1</th>\n",
       "      <td>AL</td>\n",
       "      <td>Baldwin County</td>\n",
       "      <td>Rural</td>\n",
       "      <td>17151</td>\n",
       "      <td>62832.0</td>\n",
       "    </tr>\n",
       "  </tbody>\n",
       "</table>\n",
       "</div>"
      ],
      "text/plain": [
       "  state          county  urban  cancer_avg_cost  avg_income\n",
       "0    AL  Autauga County  Urban            19293     55843.0\n",
       "1    AL  Baldwin County  Rural            17151     62832.0"
      ]
     },
     "execution_count": 13,
     "metadata": {},
     "output_type": "execute_result"
    }
   ],
   "source": [
    "cancer_costs_df = pd.merge(cancer_costs_df, income_agg, on = ['state', 'county'], how = 'inner')\n",
    "cancer_costs_df.head(2)"
   ]
  },
  {
   "cell_type": "markdown",
   "metadata": {},
   "source": [
    "### What is our target variable? What are the predictor variables?\n",
    "- The target is whether or not `cancer_avg_cost` is above or below the mean.\n",
    "- Currently, the only predictor we have is urban/rural."
   ]
  },
  {
   "cell_type": "code",
   "execution_count": 64,
   "metadata": {},
   "outputs": [],
   "source": [
    "cancer_costs_df['cancer_cost_ratio'] = cancer_costs_df['cancer_avg_cost'] / cancer_costs_df['avg_income']"
   ]
  },
  {
   "cell_type": "code",
   "execution_count": 65,
   "metadata": {},
   "outputs": [
    {
     "data": {
      "text/html": [
       "<div>\n",
       "<style scoped>\n",
       "    .dataframe tbody tr th:only-of-type {\n",
       "        vertical-align: middle;\n",
       "    }\n",
       "\n",
       "    .dataframe tbody tr th {\n",
       "        vertical-align: top;\n",
       "    }\n",
       "\n",
       "    .dataframe thead th {\n",
       "        text-align: right;\n",
       "    }\n",
       "</style>\n",
       "<table border=\"1\" class=\"dataframe\">\n",
       "  <thead>\n",
       "    <tr style=\"text-align: right;\">\n",
       "      <th></th>\n",
       "      <th>state</th>\n",
       "      <th>county</th>\n",
       "      <th>urban</th>\n",
       "      <th>cancer_avg_cost</th>\n",
       "      <th>avg_income</th>\n",
       "      <th>cancer_cost_ratio</th>\n",
       "    </tr>\n",
       "  </thead>\n",
       "  <tbody>\n",
       "    <tr>\n",
       "      <th>0</th>\n",
       "      <td>AL</td>\n",
       "      <td>Autauga County</td>\n",
       "      <td>Urban</td>\n",
       "      <td>19293</td>\n",
       "      <td>55843.0</td>\n",
       "      <td>0.345486</td>\n",
       "    </tr>\n",
       "    <tr>\n",
       "      <th>1</th>\n",
       "      <td>AL</td>\n",
       "      <td>Baldwin County</td>\n",
       "      <td>Rural</td>\n",
       "      <td>17151</td>\n",
       "      <td>62832.0</td>\n",
       "      <td>0.272966</td>\n",
       "    </tr>\n",
       "    <tr>\n",
       "      <th>2</th>\n",
       "      <td>AL</td>\n",
       "      <td>Barbour County</td>\n",
       "      <td>Rural</td>\n",
       "      <td>19469</td>\n",
       "      <td>40269.0</td>\n",
       "      <td>0.483474</td>\n",
       "    </tr>\n",
       "    <tr>\n",
       "      <th>3</th>\n",
       "      <td>AL</td>\n",
       "      <td>Bibb County</td>\n",
       "      <td>Urban</td>\n",
       "      <td>17234</td>\n",
       "      <td>47380.0</td>\n",
       "      <td>0.363740</td>\n",
       "    </tr>\n",
       "    <tr>\n",
       "      <th>4</th>\n",
       "      <td>AL</td>\n",
       "      <td>Blount County</td>\n",
       "      <td>Urban</td>\n",
       "      <td>20317</td>\n",
       "      <td>49535.0</td>\n",
       "      <td>0.410154</td>\n",
       "    </tr>\n",
       "  </tbody>\n",
       "</table>\n",
       "</div>"
      ],
      "text/plain": [
       "  state          county  urban  cancer_avg_cost  avg_income  cancer_cost_ratio\n",
       "0    AL  Autauga County  Urban            19293     55843.0           0.345486\n",
       "1    AL  Baldwin County  Rural            17151     62832.0           0.272966\n",
       "2    AL  Barbour County  Rural            19469     40269.0           0.483474\n",
       "3    AL     Bibb County  Urban            17234     47380.0           0.363740\n",
       "4    AL   Blount County  Urban            20317     49535.0           0.410154"
      ]
     },
     "execution_count": 65,
     "metadata": {},
     "output_type": "execute_result"
    }
   ],
   "source": [
    "cancer_costs_df.head()"
   ]
  },
  {
   "cell_type": "code",
   "execution_count": 66,
   "metadata": {},
   "outputs": [
    {
     "data": {
      "text/plain": [
       "0.4149767494462439"
      ]
     },
     "execution_count": 66,
     "metadata": {},
     "output_type": "execute_result"
    }
   ],
   "source": [
    "avg_cancer_ratio = cancer_costs_df.cancer_cost_ratio.mean()\n",
    "avg_cancer_ratio"
   ]
  },
  {
   "cell_type": "code",
   "execution_count": 67,
   "metadata": {},
   "outputs": [],
   "source": [
    "cancer_costs_df['above_avg_cancer_ratio'] = cancer_costs_df['cancer_cost_ratio'] > avg_cancer_ratio"
   ]
  },
  {
   "cell_type": "code",
   "execution_count": 68,
   "metadata": {},
   "outputs": [
    {
     "data": {
      "text/html": [
       "<div>\n",
       "<style scoped>\n",
       "    .dataframe tbody tr th:only-of-type {\n",
       "        vertical-align: middle;\n",
       "    }\n",
       "\n",
       "    .dataframe tbody tr th {\n",
       "        vertical-align: top;\n",
       "    }\n",
       "\n",
       "    .dataframe thead th {\n",
       "        text-align: right;\n",
       "    }\n",
       "</style>\n",
       "<table border=\"1\" class=\"dataframe\">\n",
       "  <thead>\n",
       "    <tr style=\"text-align: right;\">\n",
       "      <th></th>\n",
       "      <th>state</th>\n",
       "      <th>county</th>\n",
       "      <th>urban</th>\n",
       "      <th>cancer_avg_cost</th>\n",
       "      <th>avg_income</th>\n",
       "      <th>cancer_cost_ratio</th>\n",
       "      <th>above_avg_cancer_ratio</th>\n",
       "    </tr>\n",
       "  </thead>\n",
       "  <tbody>\n",
       "    <tr>\n",
       "      <th>0</th>\n",
       "      <td>AL</td>\n",
       "      <td>Autauga County</td>\n",
       "      <td>Urban</td>\n",
       "      <td>19293</td>\n",
       "      <td>55843.0</td>\n",
       "      <td>0.345486</td>\n",
       "      <td>False</td>\n",
       "    </tr>\n",
       "    <tr>\n",
       "      <th>1</th>\n",
       "      <td>AL</td>\n",
       "      <td>Baldwin County</td>\n",
       "      <td>Rural</td>\n",
       "      <td>17151</td>\n",
       "      <td>62832.0</td>\n",
       "      <td>0.272966</td>\n",
       "      <td>False</td>\n",
       "    </tr>\n",
       "    <tr>\n",
       "      <th>2</th>\n",
       "      <td>AL</td>\n",
       "      <td>Barbour County</td>\n",
       "      <td>Rural</td>\n",
       "      <td>19469</td>\n",
       "      <td>40269.0</td>\n",
       "      <td>0.483474</td>\n",
       "      <td>True</td>\n",
       "    </tr>\n",
       "    <tr>\n",
       "      <th>3</th>\n",
       "      <td>AL</td>\n",
       "      <td>Bibb County</td>\n",
       "      <td>Urban</td>\n",
       "      <td>17234</td>\n",
       "      <td>47380.0</td>\n",
       "      <td>0.363740</td>\n",
       "      <td>False</td>\n",
       "    </tr>\n",
       "    <tr>\n",
       "      <th>4</th>\n",
       "      <td>AL</td>\n",
       "      <td>Blount County</td>\n",
       "      <td>Urban</td>\n",
       "      <td>20317</td>\n",
       "      <td>49535.0</td>\n",
       "      <td>0.410154</td>\n",
       "      <td>False</td>\n",
       "    </tr>\n",
       "  </tbody>\n",
       "</table>\n",
       "</div>"
      ],
      "text/plain": [
       "  state          county  urban  cancer_avg_cost  avg_income  \\\n",
       "0    AL  Autauga County  Urban            19293     55843.0   \n",
       "1    AL  Baldwin County  Rural            17151     62832.0   \n",
       "2    AL  Barbour County  Rural            19469     40269.0   \n",
       "3    AL     Bibb County  Urban            17234     47380.0   \n",
       "4    AL   Blount County  Urban            20317     49535.0   \n",
       "\n",
       "   cancer_cost_ratio  above_avg_cancer_ratio  \n",
       "0           0.345486                   False  \n",
       "1           0.272966                   False  \n",
       "2           0.483474                    True  \n",
       "3           0.363740                   False  \n",
       "4           0.410154                   False  "
      ]
     },
     "execution_count": 68,
     "metadata": {},
     "output_type": "execute_result"
    }
   ],
   "source": [
    "cancer_costs_df.head()"
   ]
  },
  {
   "cell_type": "markdown",
   "metadata": {},
   "source": [
    "We need to encode the urban/rural column using `get_dummies`."
   ]
  },
  {
   "cell_type": "code",
   "execution_count": 69,
   "metadata": {},
   "outputs": [
    {
     "data": {
      "text/html": [
       "<div>\n",
       "<style scoped>\n",
       "    .dataframe tbody tr th:only-of-type {\n",
       "        vertical-align: middle;\n",
       "    }\n",
       "\n",
       "    .dataframe tbody tr th {\n",
       "        vertical-align: top;\n",
       "    }\n",
       "\n",
       "    .dataframe thead th {\n",
       "        text-align: right;\n",
       "    }\n",
       "</style>\n",
       "<table border=\"1\" class=\"dataframe\">\n",
       "  <thead>\n",
       "    <tr style=\"text-align: right;\">\n",
       "      <th></th>\n",
       "      <th>state</th>\n",
       "      <th>county</th>\n",
       "      <th>cancer_avg_cost</th>\n",
       "      <th>avg_income</th>\n",
       "      <th>cancer_cost_ratio</th>\n",
       "      <th>above_avg_cancer_ratio</th>\n",
       "      <th>urban_Urban</th>\n",
       "    </tr>\n",
       "  </thead>\n",
       "  <tbody>\n",
       "    <tr>\n",
       "      <th>0</th>\n",
       "      <td>AL</td>\n",
       "      <td>Autauga County</td>\n",
       "      <td>19293</td>\n",
       "      <td>55843.0</td>\n",
       "      <td>0.345486</td>\n",
       "      <td>False</td>\n",
       "      <td>1</td>\n",
       "    </tr>\n",
       "    <tr>\n",
       "      <th>1</th>\n",
       "      <td>AL</td>\n",
       "      <td>Baldwin County</td>\n",
       "      <td>17151</td>\n",
       "      <td>62832.0</td>\n",
       "      <td>0.272966</td>\n",
       "      <td>False</td>\n",
       "      <td>0</td>\n",
       "    </tr>\n",
       "    <tr>\n",
       "      <th>2</th>\n",
       "      <td>AL</td>\n",
       "      <td>Barbour County</td>\n",
       "      <td>19469</td>\n",
       "      <td>40269.0</td>\n",
       "      <td>0.483474</td>\n",
       "      <td>True</td>\n",
       "      <td>0</td>\n",
       "    </tr>\n",
       "  </tbody>\n",
       "</table>\n",
       "</div>"
      ],
      "text/plain": [
       "  state          county  cancer_avg_cost  avg_income  cancer_cost_ratio  \\\n",
       "0    AL  Autauga County            19293     55843.0           0.345486   \n",
       "1    AL  Baldwin County            17151     62832.0           0.272966   \n",
       "2    AL  Barbour County            19469     40269.0           0.483474   \n",
       "\n",
       "   above_avg_cancer_ratio  urban_Urban  \n",
       "0                   False            1  \n",
       "1                   False            0  \n",
       "2                    True            0  "
      ]
     },
     "execution_count": 69,
     "metadata": {},
     "output_type": "execute_result"
    }
   ],
   "source": [
    "cancer_costs_df = pd.get_dummies(cancer_costs_df, columns = ['urban'], drop_first = True)\n",
    "cancer_costs_df.head(3)"
   ]
  },
  {
   "cell_type": "code",
   "execution_count": 70,
   "metadata": {},
   "outputs": [
    {
     "data": {
      "text/plain": [
       "(3066, 7)"
      ]
     },
     "execution_count": 70,
     "metadata": {},
     "output_type": "execute_result"
    }
   ],
   "source": [
    "cancer_costs_df.shape"
   ]
  },
  {
   "cell_type": "markdown",
   "metadata": {},
   "source": [
    "# Using only urban/rural to predict"
   ]
  },
  {
   "cell_type": "code",
   "execution_count": 71,
   "metadata": {},
   "outputs": [
    {
     "data": {
      "text/plain": [
       "LogisticRegression()"
      ]
     },
     "execution_count": 71,
     "metadata": {},
     "output_type": "execute_result"
    }
   ],
   "source": [
    "X = cancer_costs_df[['urban_Urban']]\n",
    "y = cancer_costs_df.above_avg_cancer_ratio\n",
    "\n",
    "X_train, X_test, y_train, y_test = train_test_split(X, y, random_state = 2020)\n",
    "\n",
    "logistic_model = LogisticRegression()\n",
    "logistic_model.fit(X_train, y_train)"
   ]
  },
  {
   "cell_type": "code",
   "execution_count": 72,
   "metadata": {},
   "outputs": [
    {
     "data": {
      "image/png": "[encoded data removed]",
      "text/plain": [
       "<Figure size 504x360 with 1 Axes>"
      ]
     },
     "metadata": {
      "needs_background": "light"
     },
     "output_type": "display_data"
    }
   ],
   "source": [
    "fig, ax = plt.subplots(figsize = (7,5))\n",
    "sns.barplot(x = logistic_model.coef_[0], y = list(X.columns), ax = ax, edgecolor = 'black')\n",
    "plt.title('Logistic Regression Coefficients');"
   ]
  },
  {
   "cell_type": "markdown",
   "metadata": {},
   "source": [
    "Looks like a county being urban decreases the chances that the cost ratio will be above average."
   ]
  },
  {
   "cell_type": "code",
   "execution_count": 73,
   "metadata": {},
   "outputs": [
    {
     "data": {
      "text/plain": [
       "True     0.500652\n",
       "False    0.499348\n",
       "Name: above_avg_cancer_ratio, dtype: float64"
      ]
     },
     "execution_count": 73,
     "metadata": {},
     "output_type": "execute_result"
    }
   ],
   "source": [
    "# Model using no predictors\n",
    "y_test.value_counts(normalize = True)"
   ]
  },
  {
   "cell_type": "code",
   "execution_count": 74,
   "metadata": {},
   "outputs": [
    {
     "name": "stdout",
     "output_type": "stream",
     "text": [
      "0.6544980443285529\n"
     ]
    }
   ],
   "source": [
    "y_pred = logistic_model.predict(X_test)\n",
    "print(metrics.accuracy_score(y_test, y_pred))"
   ]
  },
  {
   "cell_type": "code",
   "execution_count": 75,
   "metadata": {},
   "outputs": [
    {
     "data": {
      "image/png": "[encoded data removed]",
      "text/plain": [
       "<Figure size 432x432 with 1 Axes>"
      ]
     },
     "metadata": {
      "needs_background": "light"
     },
     "output_type": "display_data"
    }
   ],
   "source": [
    "plot_confusion_matrix(y_test, y_pred, labels = ['below', 'above'], metric = 'accuracy')"
   ]
  },
  {
   "cell_type": "code",
   "execution_count": 76,
   "metadata": {},
   "outputs": [
    {
     "name": "stdout",
     "output_type": "stream",
     "text": [
      "              precision    recall  f1-score   support\n",
      "\n",
      "       False       0.71      0.52      0.60       383\n",
      "        True       0.62      0.79      0.70       384\n",
      "\n",
      "    accuracy                           0.65       767\n",
      "   macro avg       0.67      0.65      0.65       767\n",
      "weighted avg       0.67      0.65      0.65       767\n",
      "\n"
     ]
    }
   ],
   "source": [
    "print(metrics.classification_report(y_test, y_pred))"
   ]
  },
  {
   "cell_type": "markdown",
   "metadata": {},
   "source": [
    "#### Let's check AUC"
   ]
  },
  {
   "cell_type": "code",
   "execution_count": 77,
   "metadata": {},
   "outputs": [
    {
     "name": "stdout",
     "output_type": "stream",
     "text": [
      "0.654325772410792\n"
     ]
    }
   ],
   "source": [
    "y_pred_prob = logistic_model.predict_proba(X_test)[:,1]\n",
    "\n",
    "print(metrics.roc_auc_score(y_test, y_pred_prob))"
   ]
  },
  {
   "cell_type": "code",
   "execution_count": 78,
   "metadata": {},
   "outputs": [
    {
     "data": {
      "image/png": "[encoded data removed]",
      "text/plain": [
       "<Figure size 432x288 with 1 Axes>"
      ]
     },
     "metadata": {
      "needs_background": "light"
     },
     "output_type": "display_data"
    }
   ],
   "source": [
    "fp_rate, tp_rate, thresholds = metrics.roc_curve(y_test, y_pred_prob)\n",
    "\n",
    "plt.plot(fp_rate, tp_rate)\n",
    "plt.xlim([0.0, 1.0])\n",
    "plt.ylim([0.0, 1.0])\n",
    "plt.title('ROC curve for Cancer Cost Above Average classifier')\n",
    "plt.xlabel('False Positive Rate (1 - Specificity)')\n",
    "plt.ylabel('True Positive Rate (Sensitivity)')\n",
    "plt.grid(True)"
   ]
  },
  {
   "cell_type": "markdown",
   "metadata": {},
   "source": [
    "### Incorporting some of the geographic profile data"
   ]
  },
  {
   "cell_type": "code",
   "execution_count": 79,
   "metadata": {},
   "outputs": [],
   "source": [
    "geographic_info = pd.read_csv('../data/geographic_profile.csv')"
   ]
  },
  {
   "cell_type": "code",
   "execution_count": 80,
   "metadata": {},
   "outputs": [
    {
     "data": {
      "text/html": [
       "<div>\n",
       "<style scoped>\n",
       "    .dataframe tbody tr th:only-of-type {\n",
       "        vertical-align: middle;\n",
       "    }\n",
       "\n",
       "    .dataframe tbody tr th {\n",
       "        vertical-align: top;\n",
       "    }\n",
       "\n",
       "    .dataframe thead th {\n",
       "        text-align: right;\n",
       "    }\n",
       "</style>\n",
       "<table border=\"1\" class=\"dataframe\">\n",
       "  <thead>\n",
       "    <tr style=\"text-align: right;\">\n",
       "      <th></th>\n",
       "      <th>state</th>\n",
       "      <th>county</th>\n",
       "      <th>Median Household Income (5y Average)</th>\n",
       "      <th>Median Household Income for +7-person Households (5y Avg.)</th>\n",
       "      <th>Median Household Income for 1-person Households (5y Avg.)</th>\n",
       "      <th>Median Household Income for 2-person Households (5y Avg.)</th>\n",
       "      <th>Median Household Income for 3-person Households (5y Avg.)</th>\n",
       "      <th>Median Household Income for 4-person Households (5y Avg.)</th>\n",
       "      <th>Median Household Income for 5-person Households (5y Avg.)</th>\n",
       "      <th>Median Household Income for 6-person Households (5y Avg.)</th>\n",
       "      <th>...</th>\n",
       "      <th>Percent of 3 Person Households with 3 Workers (5y Avg.)</th>\n",
       "      <th>Percent of 3 Person Households with No Workers (5y Avg.)</th>\n",
       "      <th>Percent of Senior Population Below Federal Poverty Level (1y Avg.)</th>\n",
       "      <th>Percent of Senior Population Below Federal Poverty Level (5y Avg.)</th>\n",
       "      <th>Percentage of Total Housing Units that are Vacant (1y Avg.)</th>\n",
       "      <th>Percentage of Total Housing Units that are Vacant (5y Avg.)</th>\n",
       "      <th>Senior Unemployment Rate (1y Avg.)</th>\n",
       "      <th>Senior Unemployment Rate (5y Avg.)</th>\n",
       "      <th>Unemployment Rate (1y Avg.)</th>\n",
       "      <th>Unemployment Rate (5y Avg.)</th>\n",
       "    </tr>\n",
       "  </thead>\n",
       "  <tbody>\n",
       "    <tr>\n",
       "      <th>0</th>\n",
       "      <td>AL</td>\n",
       "      <td>Autauga County</td>\n",
       "      <td>53099.0</td>\n",
       "      <td>104659.0</td>\n",
       "      <td>26834.0</td>\n",
       "      <td>58452.0</td>\n",
       "      <td>76406.0</td>\n",
       "      <td>74429.0</td>\n",
       "      <td>73017.0</td>\n",
       "      <td>81500.0</td>\n",
       "      <td>...</td>\n",
       "      <td>0.101183</td>\n",
       "      <td>0.106110</td>\n",
       "      <td>NaN</td>\n",
       "      <td>0.061893</td>\n",
       "      <td>NaN</td>\n",
       "      <td>0.083869</td>\n",
       "      <td>NaN</td>\n",
       "      <td>0.079755</td>\n",
       "      <td>NaN</td>\n",
       "      <td>0.055252</td>\n",
       "    </tr>\n",
       "    <tr>\n",
       "      <th>1</th>\n",
       "      <td>AL</td>\n",
       "      <td>Baldwin County</td>\n",
       "      <td>51365.0</td>\n",
       "      <td>86250.0</td>\n",
       "      <td>26010.0</td>\n",
       "      <td>59570.0</td>\n",
       "      <td>68369.0</td>\n",
       "      <td>79153.0</td>\n",
       "      <td>69484.0</td>\n",
       "      <td>67693.0</td>\n",
       "      <td>...</td>\n",
       "      <td>0.124101</td>\n",
       "      <td>0.129932</td>\n",
       "      <td>0.077699</td>\n",
       "      <td>0.069984</td>\n",
       "      <td>0.293833</td>\n",
       "      <td>0.274180</td>\n",
       "      <td>0.032243</td>\n",
       "      <td>0.037965</td>\n",
       "      <td>0.035886</td>\n",
       "      <td>0.062713</td>\n",
       "    </tr>\n",
       "    <tr>\n",
       "      <th>2</th>\n",
       "      <td>AL</td>\n",
       "      <td>Barbour County</td>\n",
       "      <td>33956.0</td>\n",
       "      <td>NaN</td>\n",
       "      <td>16450.0</td>\n",
       "      <td>42631.0</td>\n",
       "      <td>42429.0</td>\n",
       "      <td>44563.0</td>\n",
       "      <td>46563.0</td>\n",
       "      <td>48250.0</td>\n",
       "      <td>...</td>\n",
       "      <td>0.093651</td>\n",
       "      <td>0.226190</td>\n",
       "      <td>NaN</td>\n",
       "      <td>0.162366</td>\n",
       "      <td>NaN</td>\n",
       "      <td>0.221912</td>\n",
       "      <td>NaN</td>\n",
       "      <td>0.083538</td>\n",
       "      <td>NaN</td>\n",
       "      <td>0.128247</td>\n",
       "    </tr>\n",
       "    <tr>\n",
       "      <th>3</th>\n",
       "      <td>AL</td>\n",
       "      <td>Bibb County</td>\n",
       "      <td>39776.0</td>\n",
       "      <td>111477.0</td>\n",
       "      <td>19127.0</td>\n",
       "      <td>41183.0</td>\n",
       "      <td>43520.0</td>\n",
       "      <td>51760.0</td>\n",
       "      <td>68375.0</td>\n",
       "      <td>76579.0</td>\n",
       "      <td>...</td>\n",
       "      <td>0.110305</td>\n",
       "      <td>0.206096</td>\n",
       "      <td>NaN</td>\n",
       "      <td>0.106445</td>\n",
       "      <td>NaN</td>\n",
       "      <td>0.214445</td>\n",
       "      <td>NaN</td>\n",
       "      <td>0.036667</td>\n",
       "      <td>NaN</td>\n",
       "      <td>0.071429</td>\n",
       "    </tr>\n",
       "    <tr>\n",
       "      <th>4</th>\n",
       "      <td>AL</td>\n",
       "      <td>Blount County</td>\n",
       "      <td>46212.0</td>\n",
       "      <td>50723.0</td>\n",
       "      <td>22171.0</td>\n",
       "      <td>50601.0</td>\n",
       "      <td>60406.0</td>\n",
       "      <td>64705.0</td>\n",
       "      <td>54390.0</td>\n",
       "      <td>48913.0</td>\n",
       "      <td>...</td>\n",
       "      <td>0.043669</td>\n",
       "      <td>0.186762</td>\n",
       "      <td>NaN</td>\n",
       "      <td>0.098941</td>\n",
       "      <td>NaN</td>\n",
       "      <td>0.132788</td>\n",
       "      <td>NaN</td>\n",
       "      <td>0.049601</td>\n",
       "      <td>NaN</td>\n",
       "      <td>0.059515</td>\n",
       "    </tr>\n",
       "    <tr>\n",
       "      <th>...</th>\n",
       "      <td>...</td>\n",
       "      <td>...</td>\n",
       "      <td>...</td>\n",
       "      <td>...</td>\n",
       "      <td>...</td>\n",
       "      <td>...</td>\n",
       "      <td>...</td>\n",
       "      <td>...</td>\n",
       "      <td>...</td>\n",
       "      <td>...</td>\n",
       "      <td>...</td>\n",
       "      <td>...</td>\n",
       "      <td>...</td>\n",
       "      <td>...</td>\n",
       "      <td>...</td>\n",
       "      <td>...</td>\n",
       "      <td>...</td>\n",
       "      <td>...</td>\n",
       "      <td>...</td>\n",
       "      <td>...</td>\n",
       "      <td>...</td>\n",
       "    </tr>\n",
       "    <tr>\n",
       "      <th>3215</th>\n",
       "      <td>WY</td>\n",
       "      <td>Sweetwater County</td>\n",
       "      <td>68233.0</td>\n",
       "      <td>94211.0</td>\n",
       "      <td>36884.0</td>\n",
       "      <td>77074.0</td>\n",
       "      <td>74030.0</td>\n",
       "      <td>89070.0</td>\n",
       "      <td>90544.0</td>\n",
       "      <td>103275.0</td>\n",
       "      <td>...</td>\n",
       "      <td>0.136929</td>\n",
       "      <td>0.053565</td>\n",
       "      <td>NaN</td>\n",
       "      <td>0.089024</td>\n",
       "      <td>NaN</td>\n",
       "      <td>0.125851</td>\n",
       "      <td>NaN</td>\n",
       "      <td>0.031863</td>\n",
       "      <td>NaN</td>\n",
       "      <td>0.050685</td>\n",
       "    </tr>\n",
       "    <tr>\n",
       "      <th>3216</th>\n",
       "      <td>WY</td>\n",
       "      <td>Teton County</td>\n",
       "      <td>75594.0</td>\n",
       "      <td>NaN</td>\n",
       "      <td>40613.0</td>\n",
       "      <td>86401.0</td>\n",
       "      <td>104185.0</td>\n",
       "      <td>106379.0</td>\n",
       "      <td>102321.0</td>\n",
       "      <td>78681.0</td>\n",
       "      <td>...</td>\n",
       "      <td>0.285209</td>\n",
       "      <td>0.000000</td>\n",
       "      <td>NaN</td>\n",
       "      <td>0.046450</td>\n",
       "      <td>NaN</td>\n",
       "      <td>0.344267</td>\n",
       "      <td>NaN</td>\n",
       "      <td>0.027027</td>\n",
       "      <td>NaN</td>\n",
       "      <td>0.021234</td>\n",
       "    </tr>\n",
       "    <tr>\n",
       "      <th>3217</th>\n",
       "      <td>WY</td>\n",
       "      <td>Uinta County</td>\n",
       "      <td>53323.0</td>\n",
       "      <td>78750.0</td>\n",
       "      <td>26641.0</td>\n",
       "      <td>59345.0</td>\n",
       "      <td>56186.0</td>\n",
       "      <td>79000.0</td>\n",
       "      <td>55822.0</td>\n",
       "      <td>125663.0</td>\n",
       "      <td>...</td>\n",
       "      <td>0.054170</td>\n",
       "      <td>0.075666</td>\n",
       "      <td>NaN</td>\n",
       "      <td>0.097962</td>\n",
       "      <td>NaN</td>\n",
       "      <td>0.150205</td>\n",
       "      <td>NaN</td>\n",
       "      <td>0.101167</td>\n",
       "      <td>NaN</td>\n",
       "      <td>0.063908</td>\n",
       "    </tr>\n",
       "    <tr>\n",
       "      <th>3218</th>\n",
       "      <td>WY</td>\n",
       "      <td>Washakie County</td>\n",
       "      <td>46212.0</td>\n",
       "      <td>63250.0</td>\n",
       "      <td>25625.0</td>\n",
       "      <td>61114.0</td>\n",
       "      <td>66894.0</td>\n",
       "      <td>61667.0</td>\n",
       "      <td>42500.0</td>\n",
       "      <td>NaN</td>\n",
       "      <td>...</td>\n",
       "      <td>0.153680</td>\n",
       "      <td>0.064935</td>\n",
       "      <td>NaN</td>\n",
       "      <td>0.044981</td>\n",
       "      <td>NaN</td>\n",
       "      <td>0.081868</td>\n",
       "      <td>NaN</td>\n",
       "      <td>0.041262</td>\n",
       "      <td>NaN</td>\n",
       "      <td>0.074419</td>\n",
       "    </tr>\n",
       "    <tr>\n",
       "      <th>3219</th>\n",
       "      <td>WY</td>\n",
       "      <td>Weston County</td>\n",
       "      <td>55640.0</td>\n",
       "      <td>NaN</td>\n",
       "      <td>29583.0</td>\n",
       "      <td>76577.0</td>\n",
       "      <td>83125.0</td>\n",
       "      <td>75268.0</td>\n",
       "      <td>90030.0</td>\n",
       "      <td>NaN</td>\n",
       "      <td>...</td>\n",
       "      <td>0.189369</td>\n",
       "      <td>0.053156</td>\n",
       "      <td>NaN</td>\n",
       "      <td>0.049235</td>\n",
       "      <td>NaN</td>\n",
       "      <td>0.104059</td>\n",
       "      <td>NaN</td>\n",
       "      <td>0.000000</td>\n",
       "      <td>NaN</td>\n",
       "      <td>0.036109</td>\n",
       "    </tr>\n",
       "  </tbody>\n",
       "</table>\n",
       "<p>3220 rows × 33 columns</p>\n",
       "</div>"
      ],
      "text/plain": [
       "     state             county  Median Household Income (5y Average)  \\\n",
       "0       AL     Autauga County                               53099.0   \n",
       "1       AL     Baldwin County                               51365.0   \n",
       "2       AL     Barbour County                               33956.0   \n",
       "3       AL        Bibb County                               39776.0   \n",
       "4       AL      Blount County                               46212.0   \n",
       "...    ...                ...                                   ...   \n",
       "3215    WY  Sweetwater County                               68233.0   \n",
       "3216    WY       Teton County                               75594.0   \n",
       "3217    WY       Uinta County                               53323.0   \n",
       "3218    WY    Washakie County                               46212.0   \n",
       "3219    WY      Weston County                               55640.0   \n",
       "\n",
       "      Median Household Income for +7-person Households (5y Avg.)  \\\n",
       "0                                              104659.0            \n",
       "1                                               86250.0            \n",
       "2                                                   NaN            \n",
       "3                                              111477.0            \n",
       "4                                               50723.0            \n",
       "...                                                 ...            \n",
       "3215                                            94211.0            \n",
       "3216                                                NaN            \n",
       "3217                                            78750.0            \n",
       "3218                                            63250.0            \n",
       "3219                                                NaN            \n",
       "\n",
       "      Median Household Income for 1-person Households (5y Avg.)  \\\n",
       "0                                               26834.0           \n",
       "1                                               26010.0           \n",
       "2                                               16450.0           \n",
       "3                                               19127.0           \n",
       "4                                               22171.0           \n",
       "...                                                 ...           \n",
       "3215                                            36884.0           \n",
       "3216                                            40613.0           \n",
       "3217                                            26641.0           \n",
       "3218                                            25625.0           \n",
       "3219                                            29583.0           \n",
       "\n",
       "      Median Household Income for 2-person Households (5y Avg.)  \\\n",
       "0                                               58452.0           \n",
       "1                                               59570.0           \n",
       "2                                               42631.0           \n",
       "3                                               41183.0           \n",
       "4                                               50601.0           \n",
       "...                                                 ...           \n",
       "3215                                            77074.0           \n",
       "3216                                            86401.0           \n",
       "3217                                            59345.0           \n",
       "3218                                            61114.0           \n",
       "3219                                            76577.0           \n",
       "\n",
       "      Median Household Income for 3-person Households (5y Avg.)  \\\n",
       "0                                               76406.0           \n",
       "1                                               68369.0           \n",
       "2                                               42429.0           \n",
       "3                                               43520.0           \n",
       "4                                               60406.0           \n",
       "...                                                 ...           \n",
       "3215                                            74030.0           \n",
       "3216                                           104185.0           \n",
       "3217                                            56186.0           \n",
       "3218                                            66894.0           \n",
       "3219                                            83125.0           \n",
       "\n",
       "      Median Household Income for 4-person Households (5y Avg.)  \\\n",
       "0                                               74429.0           \n",
       "1                                               79153.0           \n",
       "2                                               44563.0           \n",
       "3                                               51760.0           \n",
       "4                                               64705.0           \n",
       "...                                                 ...           \n",
       "3215                                            89070.0           \n",
       "3216                                           106379.0           \n",
       "3217                                            79000.0           \n",
       "3218                                            61667.0           \n",
       "3219                                            75268.0           \n",
       "\n",
       "      Median Household Income for 5-person Households (5y Avg.)  \\\n",
       "0                                               73017.0           \n",
       "1                                               69484.0           \n",
       "2                                               46563.0           \n",
       "3                                               68375.0           \n",
       "4                                               54390.0           \n",
       "...                                                 ...           \n",
       "3215                                            90544.0           \n",
       "3216                                           102321.0           \n",
       "3217                                            55822.0           \n",
       "3218                                            42500.0           \n",
       "3219                                            90030.0           \n",
       "\n",
       "      Median Household Income for 6-person Households (5y Avg.)  ...  \\\n",
       "0                                               81500.0          ...   \n",
       "1                                               67693.0          ...   \n",
       "2                                               48250.0          ...   \n",
       "3                                               76579.0          ...   \n",
       "4                                               48913.0          ...   \n",
       "...                                                 ...          ...   \n",
       "3215                                           103275.0          ...   \n",
       "3216                                            78681.0          ...   \n",
       "3217                                           125663.0          ...   \n",
       "3218                                                NaN          ...   \n",
       "3219                                                NaN          ...   \n",
       "\n",
       "      Percent of 3 Person Households with 3 Workers (5y Avg.)  \\\n",
       "0                                              0.101183         \n",
       "1                                              0.124101         \n",
       "2                                              0.093651         \n",
       "3                                              0.110305         \n",
       "4                                              0.043669         \n",
       "...                                                 ...         \n",
       "3215                                           0.136929         \n",
       "3216                                           0.285209         \n",
       "3217                                           0.054170         \n",
       "3218                                           0.153680         \n",
       "3219                                           0.189369         \n",
       "\n",
       "      Percent of 3 Person Households with No Workers (5y Avg.)  \\\n",
       "0                                              0.106110          \n",
       "1                                              0.129932          \n",
       "2                                              0.226190          \n",
       "3                                              0.206096          \n",
       "4                                              0.186762          \n",
       "...                                                 ...          \n",
       "3215                                           0.053565          \n",
       "3216                                           0.000000          \n",
       "3217                                           0.075666          \n",
       "3218                                           0.064935          \n",
       "3219                                           0.053156          \n",
       "\n",
       "      Percent of Senior Population Below Federal Poverty Level (1y Avg.)  \\\n",
       "0                                                   NaN                    \n",
       "1                                              0.077699                    \n",
       "2                                                   NaN                    \n",
       "3                                                   NaN                    \n",
       "4                                                   NaN                    \n",
       "...                                                 ...                    \n",
       "3215                                                NaN                    \n",
       "3216                                                NaN                    \n",
       "3217                                                NaN                    \n",
       "3218                                                NaN                    \n",
       "3219                                                NaN                    \n",
       "\n",
       "      Percent of Senior Population Below Federal Poverty Level (5y Avg.)  \\\n",
       "0                                              0.061893                    \n",
       "1                                              0.069984                    \n",
       "2                                              0.162366                    \n",
       "3                                              0.106445                    \n",
       "4                                              0.098941                    \n",
       "...                                                 ...                    \n",
       "3215                                           0.089024                    \n",
       "3216                                           0.046450                    \n",
       "3217                                           0.097962                    \n",
       "3218                                           0.044981                    \n",
       "3219                                           0.049235                    \n",
       "\n",
       "      Percentage of Total Housing Units that are Vacant (1y Avg.)  \\\n",
       "0                                                   NaN             \n",
       "1                                              0.293833             \n",
       "2                                                   NaN             \n",
       "3                                                   NaN             \n",
       "4                                                   NaN             \n",
       "...                                                 ...             \n",
       "3215                                                NaN             \n",
       "3216                                                NaN             \n",
       "3217                                                NaN             \n",
       "3218                                                NaN             \n",
       "3219                                                NaN             \n",
       "\n",
       "      Percentage of Total Housing Units that are Vacant (5y Avg.)  \\\n",
       "0                                              0.083869             \n",
       "1                                              0.274180             \n",
       "2                                              0.221912             \n",
       "3                                              0.214445             \n",
       "4                                              0.132788             \n",
       "...                                                 ...             \n",
       "3215                                           0.125851             \n",
       "3216                                           0.344267             \n",
       "3217                                           0.150205             \n",
       "3218                                           0.081868             \n",
       "3219                                           0.104059             \n",
       "\n",
       "      Senior Unemployment Rate (1y Avg.)  Senior Unemployment Rate (5y Avg.)  \\\n",
       "0                                    NaN                            0.079755   \n",
       "1                               0.032243                            0.037965   \n",
       "2                                    NaN                            0.083538   \n",
       "3                                    NaN                            0.036667   \n",
       "4                                    NaN                            0.049601   \n",
       "...                                  ...                                 ...   \n",
       "3215                                 NaN                            0.031863   \n",
       "3216                                 NaN                            0.027027   \n",
       "3217                                 NaN                            0.101167   \n",
       "3218                                 NaN                            0.041262   \n",
       "3219                                 NaN                            0.000000   \n",
       "\n",
       "      Unemployment Rate (1y Avg.)  Unemployment Rate (5y Avg.)  \n",
       "0                             NaN                     0.055252  \n",
       "1                        0.035886                     0.062713  \n",
       "2                             NaN                     0.128247  \n",
       "3                             NaN                     0.071429  \n",
       "4                             NaN                     0.059515  \n",
       "...                           ...                          ...  \n",
       "3215                          NaN                     0.050685  \n",
       "3216                          NaN                     0.021234  \n",
       "3217                          NaN                     0.063908  \n",
       "3218                          NaN                     0.074419  \n",
       "3219                          NaN                     0.036109  \n",
       "\n",
       "[3220 rows x 33 columns]"
      ]
     },
     "execution_count": 80,
     "metadata": {},
     "output_type": "execute_result"
    }
   ],
   "source": [
    "geographic_info"
   ]
  },
  {
   "cell_type": "markdown",
   "metadata": {},
   "source": [
    "**Important:** Check for missing values and see what columns are available."
   ]
  },
  {
   "cell_type": "code",
   "execution_count": 81,
   "metadata": {},
   "outputs": [
    {
     "data": {
      "text/plain": [
       "state                                                                    0\n",
       "county                                                                   0\n",
       "Median Household Income (5y Average)                                     0\n",
       "Median Household Income for +7-person Households (5y Avg.)             777\n",
       "Median Household Income for 1-person Households (5y Avg.)                0\n",
       "Median Household Income for 2-person Households (5y Avg.)                1\n",
       "Median Household Income for 3-person Households (5y Avg.)               19\n",
       "Median Household Income for 4-person Households (5y Avg.)               39\n",
       "Median Household Income for 5-person Households (5y Avg.)              125\n",
       "Median Household Income for 6-person Households (5y Avg.)              455\n",
       "Percent Below Federal Poverty Level (1y Avg.)                         2389\n",
       "Percent Below Federal Poverty Level (5y Avg.)                            0\n",
       "Percent of +4 Person Households with +3 Workers (5y Avg.)                0\n",
       "Percent of +4 Person Households with 1 Worker (5y Avg.)                  0\n",
       "Percent of +4 Person Households with 2 Workers (5y Avg.)                 0\n",
       "Percent of +4 Person Households with No Workers (5y Avg.)                0\n",
       "Percent of 1 Person Households with 1 Worker (5y Avg.)                   0\n",
       "Percent of 1 Person Households with No Workers (5y Avg.)                 0\n",
       "Percent of 2 Person Households with 1 Worker (5y Avg.)                   0\n",
       "Percent of 2 Person Households with 2 Workers (5y Avg.)                  0\n",
       "Percent of 2 Person Households with No Workers (5y Avg.)                 0\n",
       "Percent of 3 Person Households with 1 Worker (5y Avg.)                   1\n",
       "Percent of 3 Person Households with 2 Workers (5y Avg.)                  1\n",
       "Percent of 3 Person Households with 3 Workers (5y Avg.)                  1\n",
       "Percent of 3 Person Households with No Workers (5y Avg.)                 1\n",
       "Percent of Senior Population Below Federal Poverty Level (1y Avg.)    2389\n",
       "Percent of Senior Population Below Federal Poverty Level (5y Avg.)       0\n",
       "Percentage of Total Housing Units that are Vacant (1y Avg.)           2442\n",
       "Percentage of Total Housing Units that are Vacant (5y Avg.)              0\n",
       "Senior Unemployment Rate (1y Avg.)                                    2498\n",
       "Senior Unemployment Rate (5y Avg.)                                       1\n",
       "Unemployment Rate (1y Avg.)                                           2498\n",
       "Unemployment Rate (5y Avg.)                                              0\n",
       "dtype: int64"
      ]
     },
     "execution_count": 81,
     "metadata": {},
     "output_type": "execute_result"
    }
   ],
   "source": [
    "geographic_info.isna().sum()"
   ]
  },
  {
   "cell_type": "markdown",
   "metadata": {},
   "source": [
    "Grabbing the usable predictors. Note that I did not use Median Household Income."
   ]
  },
  {
   "cell_type": "code",
   "execution_count": 82,
   "metadata": {},
   "outputs": [
    {
     "data": {
      "text/html": [
       "<div>\n",
       "<style scoped>\n",
       "    .dataframe tbody tr th:only-of-type {\n",
       "        vertical-align: middle;\n",
       "    }\n",
       "\n",
       "    .dataframe tbody tr th {\n",
       "        vertical-align: top;\n",
       "    }\n",
       "\n",
       "    .dataframe thead th {\n",
       "        text-align: right;\n",
       "    }\n",
       "</style>\n",
       "<table border=\"1\" class=\"dataframe\">\n",
       "  <thead>\n",
       "    <tr style=\"text-align: right;\">\n",
       "      <th></th>\n",
       "      <th>state</th>\n",
       "      <th>county</th>\n",
       "      <th>Percent Below Federal Poverty Level (5y Avg.)</th>\n",
       "    </tr>\n",
       "  </thead>\n",
       "  <tbody>\n",
       "    <tr>\n",
       "      <th>0</th>\n",
       "      <td>AL</td>\n",
       "      <td>Autauga County</td>\n",
       "      <td>0.122660</td>\n",
       "    </tr>\n",
       "    <tr>\n",
       "      <th>1</th>\n",
       "      <td>AL</td>\n",
       "      <td>Baldwin County</td>\n",
       "      <td>0.129938</td>\n",
       "    </tr>\n",
       "  </tbody>\n",
       "</table>\n",
       "</div>"
      ],
      "text/plain": [
       "  state          county  Percent Below Federal Poverty Level (5y Avg.)\n",
       "0    AL  Autauga County                                       0.122660\n",
       "1    AL  Baldwin County                                       0.129938"
      ]
     },
     "execution_count": 82,
     "metadata": {},
     "output_type": "execute_result"
    }
   ],
   "source": [
    "geographic_info = geographic_info[['state', 'county', 'Percent Below Federal Poverty Level (5y Avg.)']]\n",
    "geographic_info.head(2)"
   ]
  },
  {
   "cell_type": "code",
   "execution_count": 83,
   "metadata": {},
   "outputs": [],
   "source": [
    "cancer_costs_df = pd.merge(left = cancer_costs_df, right = geographic_info)"
   ]
  },
  {
   "cell_type": "code",
   "execution_count": 84,
   "metadata": {},
   "outputs": [
    {
     "data": {
      "text/plain": [
       "(3065, 8)"
      ]
     },
     "execution_count": 84,
     "metadata": {},
     "output_type": "execute_result"
    }
   ],
   "source": [
    "cancer_costs_df.shape"
   ]
  },
  {
   "cell_type": "code",
   "execution_count": 85,
   "metadata": {},
   "outputs": [
    {
     "data": {
      "text/html": [
       "<div>\n",
       "<style scoped>\n",
       "    .dataframe tbody tr th:only-of-type {\n",
       "        vertical-align: middle;\n",
       "    }\n",
       "\n",
       "    .dataframe tbody tr th {\n",
       "        vertical-align: top;\n",
       "    }\n",
       "\n",
       "    .dataframe thead th {\n",
       "        text-align: right;\n",
       "    }\n",
       "</style>\n",
       "<table border=\"1\" class=\"dataframe\">\n",
       "  <thead>\n",
       "    <tr style=\"text-align: right;\">\n",
       "      <th></th>\n",
       "      <th>state</th>\n",
       "      <th>county</th>\n",
       "      <th>cancer_avg_cost</th>\n",
       "      <th>avg_income</th>\n",
       "      <th>cancer_cost_ratio</th>\n",
       "      <th>above_avg_cancer_ratio</th>\n",
       "      <th>urban_Urban</th>\n",
       "      <th>Percent Below Federal Poverty Level (5y Avg.)</th>\n",
       "    </tr>\n",
       "  </thead>\n",
       "  <tbody>\n",
       "    <tr>\n",
       "      <th>0</th>\n",
       "      <td>AL</td>\n",
       "      <td>Autauga County</td>\n",
       "      <td>19293</td>\n",
       "      <td>55843.0</td>\n",
       "      <td>0.345486</td>\n",
       "      <td>False</td>\n",
       "      <td>1</td>\n",
       "      <td>0.122660</td>\n",
       "    </tr>\n",
       "    <tr>\n",
       "      <th>1</th>\n",
       "      <td>AL</td>\n",
       "      <td>Baldwin County</td>\n",
       "      <td>17151</td>\n",
       "      <td>62832.0</td>\n",
       "      <td>0.272966</td>\n",
       "      <td>False</td>\n",
       "      <td>0</td>\n",
       "      <td>0.129938</td>\n",
       "    </tr>\n",
       "    <tr>\n",
       "      <th>2</th>\n",
       "      <td>AL</td>\n",
       "      <td>Barbour County</td>\n",
       "      <td>19469</td>\n",
       "      <td>40269.0</td>\n",
       "      <td>0.483474</td>\n",
       "      <td>True</td>\n",
       "      <td>0</td>\n",
       "      <td>0.263737</td>\n",
       "    </tr>\n",
       "    <tr>\n",
       "      <th>3</th>\n",
       "      <td>AL</td>\n",
       "      <td>Bibb County</td>\n",
       "      <td>17234</td>\n",
       "      <td>47380.0</td>\n",
       "      <td>0.363740</td>\n",
       "      <td>False</td>\n",
       "      <td>1</td>\n",
       "      <td>0.164539</td>\n",
       "    </tr>\n",
       "    <tr>\n",
       "      <th>4</th>\n",
       "      <td>AL</td>\n",
       "      <td>Blount County</td>\n",
       "      <td>20317</td>\n",
       "      <td>49535.0</td>\n",
       "      <td>0.410154</td>\n",
       "      <td>False</td>\n",
       "      <td>1</td>\n",
       "      <td>0.165344</td>\n",
       "    </tr>\n",
       "  </tbody>\n",
       "</table>\n",
       "</div>"
      ],
      "text/plain": [
       "  state          county  cancer_avg_cost  avg_income  cancer_cost_ratio  \\\n",
       "0    AL  Autauga County            19293     55843.0           0.345486   \n",
       "1    AL  Baldwin County            17151     62832.0           0.272966   \n",
       "2    AL  Barbour County            19469     40269.0           0.483474   \n",
       "3    AL     Bibb County            17234     47380.0           0.363740   \n",
       "4    AL   Blount County            20317     49535.0           0.410154   \n",
       "\n",
       "   above_avg_cancer_ratio  urban_Urban  \\\n",
       "0                   False            1   \n",
       "1                   False            0   \n",
       "2                    True            0   \n",
       "3                   False            1   \n",
       "4                   False            1   \n",
       "\n",
       "   Percent Below Federal Poverty Level (5y Avg.)  \n",
       "0                                       0.122660  \n",
       "1                                       0.129938  \n",
       "2                                       0.263737  \n",
       "3                                       0.164539  \n",
       "4                                       0.165344  "
      ]
     },
     "execution_count": 85,
     "metadata": {},
     "output_type": "execute_result"
    }
   ],
   "source": [
    "cancer_costs_df.head()"
   ]
  },
  {
   "cell_type": "code",
   "execution_count": 86,
   "metadata": {},
   "outputs": [
    {
     "data": {
      "text/plain": [
       "Index(['state', 'county', 'cancer_avg_cost', 'avg_income', 'cancer_cost_ratio',\n",
       "       'above_avg_cancer_ratio', 'urban_Urban',\n",
       "       'Percent Below Federal Poverty Level (5y Avg.)'],\n",
       "      dtype='object')"
      ]
     },
     "execution_count": 86,
     "metadata": {},
     "output_type": "execute_result"
    }
   ],
   "source": [
    "cancer_costs_df.columns"
   ]
  },
  {
   "cell_type": "code",
   "execution_count": 87,
   "metadata": {},
   "outputs": [
    {
     "data": {
      "text/plain": [
       "LogisticRegression()"
      ]
     },
     "execution_count": 87,
     "metadata": {},
     "output_type": "execute_result"
    }
   ],
   "source": [
    "X = cancer_costs_df[['urban_Urban', 'Percent Below Federal Poverty Level (5y Avg.)']]\n",
    "y = cancer_costs_df.above_avg_cancer_ratio\n",
    "\n",
    "X_train, X_test, y_train, y_test = train_test_split(X, y, random_state = 2020)\n",
    "\n",
    "logistic_model = LogisticRegression()\n",
    "logistic_model.fit(X_train, y_train)"
   ]
  },
  {
   "cell_type": "code",
   "execution_count": 88,
   "metadata": {},
   "outputs": [
    {
     "data": {
      "image/png": "[encoded data removed]",
      "text/plain": [
       "<Figure size 504x360 with 1 Axes>"
      ]
     },
     "metadata": {
      "needs_background": "light"
     },
     "output_type": "display_data"
    }
   ],
   "source": [
    "fig, ax = plt.subplots(figsize = (7,5))\n",
    "sns.barplot(x = logistic_model.coef_[0], y = list(X.columns), ax = ax, edgecolor = 'black')\n",
    "plt.title('Logistic Regression Coefficients')\n",
    "ymin, ymax = plt.ylim()\n",
    "plt.vlines(x = 0, ymin = ymin, ymax = ymax);"
   ]
  },
  {
   "cell_type": "code",
   "execution_count": 89,
   "metadata": {},
   "outputs": [
    {
     "name": "stdout",
     "output_type": "stream",
     "text": [
      "0.7405475880052151\n"
     ]
    }
   ],
   "source": [
    "y_pred = logistic_model.predict(X_test)\n",
    "print(metrics.accuracy_score(y_test, y_pred))"
   ]
  },
  {
   "cell_type": "code",
   "execution_count": 90,
   "metadata": {},
   "outputs": [
    {
     "data": {
      "image/png": "[encoded data removed]",
      "text/plain": [
       "<Figure size 432x432 with 1 Axes>"
      ]
     },
     "metadata": {
      "needs_background": "light"
     },
     "output_type": "display_data"
    }
   ],
   "source": [
    "plot_confusion_matrix(y_test, y_pred, labels = ['below', 'above'], metric = 'accuracy')"
   ]
  },
  {
   "cell_type": "code",
   "execution_count": 91,
   "metadata": {},
   "outputs": [
    {
     "name": "stdout",
     "output_type": "stream",
     "text": [
      "0.8011536994660565\n"
     ]
    }
   ],
   "source": [
    "y_pred_prob = logistic_model.predict_proba(X_test)[:,1]\n",
    "\n",
    "print(metrics.roc_auc_score(y_test, y_pred_prob))"
   ]
  },
  {
   "cell_type": "code",
   "execution_count": 92,
   "metadata": {},
   "outputs": [
    {
     "data": {
      "image/png": "[encoded data removed]",
      "text/plain": [
       "<Figure size 432x288 with 1 Axes>"
      ]
     },
     "metadata": {
      "needs_background": "light"
     },
     "output_type": "display_data"
    }
   ],
   "source": [
    "fp_rate, tp_rate, thresholds = metrics.roc_curve(y_test, y_pred_prob)\n",
    "\n",
    "plt.plot(fp_rate, tp_rate)\n",
    "plt.xlim([0.0, 1.0])\n",
    "plt.ylim([0.0, 1.0])\n",
    "plt.title('ROC curve for Cancer Cost Above Average classifier')\n",
    "plt.xlabel('False Positive Rate (1 - Specificity)')\n",
    "plt.ylabel('True Positive Rate (Sensitivity)')\n",
    "plt.grid(True)"
   ]
  },
  {
   "cell_type": "code",
   "execution_count": null,
   "metadata": {},
   "outputs": [],
   "source": []
  }
 ],
 "metadata": {
  "kernelspec": {
   "display_name": "Python 3",
   "language": "python",
   "name": "python3"
  },
  "language_info": {
   "codemirror_mode": {
    "name": "ipython",
    "version": 3
   },
   "file_extension": ".py",
   "mimetype": "text/x-python",
   "name": "python",
   "nbconvert_exporter": "python",
   "pygments_lexer": "ipython3",
   "version": "3.8.3"
  }
 },
 "nbformat": 4,
 "nbformat_minor": 2
}
